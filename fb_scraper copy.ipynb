{
 "cells": [
  {
   "cell_type": "code",
   "execution_count": 1,
   "metadata": {},
   "outputs": [],
   "source": [
    "from datetime import datetime, timezone\n",
    "from facebook_scraper import get_posts, set_cookies, exceptions\n",
    "import time\n",
    "import pandas as pd\n",
    "import json"
   ]
  },
  {
   "cell_type": "code",
   "execution_count": 2,
   "metadata": {},
   "outputs": [],
   "source": [
    "set_cookies(\"cookies.json\")\n",
    "out_path = \"C:\\\\Users\\\\keatu\\\\Regis_archive\\\\practicum_data\\\\post_covid_symptoms\""
   ]
  },
  {
   "cell_type": "code",
   "execution_count": 3,
   "metadata": {},
   "outputs": [],
   "source": [
    "def handle_pagination_url(url):\n",
    "    global start_url\n",
    "    \n",
    "    start_url = url"
   ]
  },
  {
   "cell_type": "code",
   "execution_count": 4,
   "metadata": {},
   "outputs": [],
   "source": [
    "start_url = None\n",
    "i=0"
   ]
  },
  {
   "cell_type": "code",
   "execution_count": 5,
   "metadata": {},
   "outputs": [],
   "source": [
    "#              long haulers support, covid19 the long-haulers, post covid symptoms\n",
    "group_ids = [\"373920943948661\",\"365867864454134\",\"5950528321639271\"]"
   ]
  },
  {
   "cell_type": "code",
   "execution_count": 6,
   "metadata": {},
   "outputs": [
    {
     "name": "stderr",
     "output_type": "stream",
     "text": [
      "C:\\Users\\keatu\\Anaconda3\\lib\\site-packages\\dateparser\\date_parser.py:35: PytzUsageWarning: The localize method is no longer necessary, as this time zone supports the fold attribute (PEP 495). For more details on migrating to a PEP 495-compliant implementation, see https://pytz-deprecation-shim.readthedocs.io/en/latest/migration.html\n",
      "  date_obj = stz.localize(date_obj)\n"
     ]
    },
    {
     "name": "stdout",
     "output_type": "stream",
     "text": [
      "2022-2-6_16-15-58 ## 100 posts processed\n",
      "2022-2-6_16-17-21 ## TEMPORARY BAN at 124 posts... sleeping for 1 hour\n",
      "2022-2-6_16-17-21 ## File written with timestamp\n",
      "2022-2-6_17-21-13 ## 200 posts processed\n",
      "2022-2-6_17-21-13 ## File written with timestamp\n",
      "Finished\n"
     ]
    }
   ],
   "source": [
    "results = []\n",
    "i=0\n",
    "now = datetime.now()\n",
    "nowtime = \"{}-{}-{}_{}-{}-{}\".format(now.year,now.month,now.day,now.hour,now.minute,now.second)\n",
    "while True:\n",
    "    try :\n",
    "        for post in get_posts(group = group_ids[2], page_limit = None, pages = 1000, start_url = start_url, encoding=\"utf-8\",\n",
    "        request_url_callback = handle_pagination_url, options={\"posts_per_page\":1000,\"allow_extra_requests\":True,\"comments\":True}):\n",
    "            i+=1\n",
    "            if (i%100)==0:\n",
    "                now = datetime.now()\n",
    "                nowtime = \"{}-{}-{}_{}-{}-{}\".format(now.year,now.month,now.day,now.hour,now.minute,now.second)\n",
    "                print(\"{} ## {} posts processed\".format(nowtime, i))\n",
    "            results.append(post)\n",
    "        all_posts = pd.DataFrame()\n",
    "        for each in results:\n",
    "            all_posts = all_posts.append(each, ignore_index = True)\n",
    "        if len(all_posts)>0:\n",
    "            all_posts.to_csv(\"fb_scraper_{}.csv\".format(nowtime))\n",
    "            print(\"{} ## File written with timestamp\".format(nowtime))\n",
    "        print(\"Finished\")\n",
    "        break\n",
    "    except exceptions.TemporarilyBanned:\n",
    "        now = datetime.now()\n",
    "        nowtime = \"{}-{}-{}_{}-{}-{}\".format(now.year,now.month,now.day,now.hour,now.minute,now.second)\n",
    "        print(\"{} ## TEMPORARY BAN at {} posts... sleeping for 1 hour\".format(nowtime,i))\n",
    "        all_posts = pd.DataFrame()\n",
    "        for each in results:\n",
    "            all_posts = all_posts.append(each, ignore_index = True)\n",
    "        if len(all_posts)>0:\n",
    "            all_posts.to_csv(\"fb_scraper_{}.csv\".format(nowtime))\n",
    "            print(\"{} ## File written with timestamp\".format(nowtime))\n",
    "        results = []\n",
    "        time.sleep(3600)\n"
   ]
  },
  {
   "cell_type": "code",
   "execution_count": null,
   "metadata": {},
   "outputs": [],
   "source": []
  },
  {
   "cell_type": "code",
   "execution_count": 13,
   "metadata": {},
   "outputs": [
    {
     "name": "stdout",
     "output_type": "stream",
     "text": [
      "2022-2-2_20-29-35 ## File written with timestamp\n"
     ]
    }
   ],
   "source": [
    "all_posts = pd.DataFrame()\n",
    "for each in results:\n",
    "    all_posts = all_posts.append(each, ignore_index = True)\n",
    "if len(all_posts)>0:\n",
    "    all_posts.to_csv(\"fb_scraper_{}.csv\".format(nowtime))\n",
    "    print(\"{} ## File written with timestamp\".format(nowtime))"
   ]
  },
  {
   "cell_type": "code",
   "execution_count": 7,
   "metadata": {},
   "outputs": [],
   "source": [
    "all_posts.to_csv(\"fb_srcaper1.csv\")"
   ]
  },
  {
   "cell_type": "code",
   "execution_count": 5,
   "metadata": {},
   "outputs": [
    {
     "data": {
      "text/plain": [
       "'https://m.facebook.com/groups/373920943948661?bac=MTYzMDk3NTk5Njo1MDgyMTUyMzM4NTI1NjQ6NTA4MjE1MjMzODUyNTY0LDAsMzg6MjA6S3c9PQ%3D%3D&multi_permalinks'"
      ]
     },
     "execution_count": 5,
     "metadata": {},
     "output_type": "execute_result"
    }
   ],
   "source": [
    "start_url"
   ]
  },
  {
   "cell_type": "code",
   "execution_count": 11,
   "metadata": {},
   "outputs": [],
   "source": [
    "with open(\"test.csv\", 'w+', encoding=\"utf-8\") as f:\n",
    "    for each in results[:4]:\n",
    "        line = [str(i) for i in list(each)]\n",
    "        line = \",\".join(line)\n",
    "        f.write(line)\n"
   ]
  },
  {
   "cell_type": "code",
   "execution_count": 13,
   "metadata": {},
   "outputs": [
    {
     "data": {
      "text/plain": [
       "['post_id',\n",
       " 'text',\n",
       " 'post_text',\n",
       " 'shared_text',\n",
       " 'time',\n",
       " 'timestamp',\n",
       " 'image',\n",
       " 'image_lowquality',\n",
       " 'images',\n",
       " 'images_description',\n",
       " 'images_lowquality',\n",
       " 'images_lowquality_description',\n",
       " 'video',\n",
       " 'video_duration_seconds',\n",
       " 'video_height',\n",
       " 'video_id',\n",
       " 'video_quality',\n",
       " 'video_size_MB',\n",
       " 'video_thumbnail',\n",
       " 'video_watches',\n",
       " 'video_width',\n",
       " 'likes',\n",
       " 'comments',\n",
       " 'shares',\n",
       " 'post_url',\n",
       " 'link',\n",
       " 'links',\n",
       " 'user_id',\n",
       " 'username',\n",
       " 'user_url',\n",
       " 'is_live',\n",
       " 'factcheck',\n",
       " 'shared_post_id',\n",
       " 'shared_time',\n",
       " 'shared_user_id',\n",
       " 'shared_username',\n",
       " 'shared_post_url',\n",
       " 'available',\n",
       " 'comments_full',\n",
       " 'reactors',\n",
       " 'w3_fb_url',\n",
       " 'reactions',\n",
       " 'reaction_count',\n",
       " 'with',\n",
       " 'page_id',\n",
       " 'sharers',\n",
       " 'image_id',\n",
       " 'image_ids',\n",
       " 'was_live',\n",
       " 'header']"
      ]
     },
     "execution_count": 13,
     "metadata": {},
     "output_type": "execute_result"
    }
   ],
   "source": [
    "list(results[0].keys())"
   ]
  },
  {
   "cell_type": "code",
   "execution_count": null,
   "metadata": {},
   "outputs": [],
   "source": []
  }
 ],
 "metadata": {
  "interpreter": {
   "hash": "ce4da9915f0d678e12335d58837d25529fa567b369eed2b2f7083145c2fca737"
  },
  "kernelspec": {
   "display_name": "Python 3.7.4 64-bit ('base': conda)",
   "language": "python",
   "name": "python3"
  },
  "language_info": {
   "codemirror_mode": {
    "name": "ipython",
    "version": 3
   },
   "file_extension": ".py",
   "mimetype": "text/x-python",
   "name": "python",
   "nbconvert_exporter": "python",
   "pygments_lexer": "ipython3",
   "version": "3.7.4"
  },
  "orig_nbformat": 4
 },
 "nbformat": 4,
 "nbformat_minor": 2
}
