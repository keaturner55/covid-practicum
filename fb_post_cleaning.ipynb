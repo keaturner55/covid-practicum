{
 "cells": [
  {
   "cell_type": "code",
   "execution_count": 197,
   "metadata": {},
   "outputs": [],
   "source": [
    "import pandas as pd\n",
    "from glob import glob\n",
    "import os\n",
    "import nltk\n",
    "import ast # for converting string to literal representation\n",
    "import json\n",
    "import re\n",
    "import datetime"
   ]
  },
  {
   "cell_type": "code",
   "execution_count": 93,
   "metadata": {},
   "outputs": [],
   "source": [
    "datadir = \"C:\\\\Users\\\\keatu\\\\Regis_archive\\\\practicum_data\\\\fb_formatted\"\n",
    "csv_list = glob(os.path.join(datadir,\"*.csv\"))"
   ]
  },
  {
   "cell_type": "code",
   "execution_count": 53,
   "metadata": {},
   "outputs": [
    {
     "name": "stderr",
     "output_type": "stream",
     "text": [
      "C:\\Users\\keatu\\Anaconda3\\lib\\site-packages\\ipykernel_launcher.py:4: FutureWarning: Sorting because non-concatenation axis is not aligned. A future version\n",
      "of pandas will change to not sort by default.\n",
      "\n",
      "To accept the future behavior, pass 'sort=False'.\n",
      "\n",
      "To retain the current behavior and silence the warning, pass 'sort=True'.\n",
      "\n",
      "  after removing the cwd from sys.path.\n"
     ]
    }
   ],
   "source": [
    "allcsv = []\n",
    "for i in csv_list:\n",
    "    allcsv.append(pd.read_csv(i))\n",
    "fbdf = pd.concat(allcsv)"
   ]
  },
  {
   "cell_type": "code",
   "execution_count": 54,
   "metadata": {},
   "outputs": [
    {
     "data": {
      "text/plain": [
       "(6361, 53)"
      ]
     },
     "execution_count": 54,
     "metadata": {},
     "output_type": "execute_result"
    }
   ],
   "source": [
    "fbdf.shape"
   ]
  },
  {
   "cell_type": "code",
   "execution_count": 55,
   "metadata": {},
   "outputs": [
    {
     "name": "stdout",
     "output_type": "stream",
     "text": [
      "<class 'pandas.core.frame.DataFrame'>\n",
      "Int64Index: 6361 entries, 0 to 408\n",
      "Data columns (total 53 columns):\n",
      "Unnamed: 0                       6361 non-null int64\n",
      "available                        6361 non-null float64\n",
      "comments                         6361 non-null float64\n",
      "comments_full                    0 non-null float64\n",
      "factcheck                        0 non-null float64\n",
      "header                           6026 non-null object\n",
      "image                            2651 non-null object\n",
      "image_id                         670 non-null float64\n",
      "image_ids                        6361 non-null object\n",
      "image_lowquality                 2982 non-null object\n",
      "images                           4832 non-null object\n",
      "images_description               4037 non-null object\n",
      "images_lowquality                6360 non-null object\n",
      "images_lowquality_description    6360 non-null object\n",
      "is_live                          6361 non-null float64\n",
      "likes                            6361 non-null float64\n",
      "link                             2542 non-null object\n",
      "links                            6347 non-null object\n",
      "page_id                          6358 non-null float64\n",
      "post_id                          6360 non-null float64\n",
      "post_text                        6041 non-null object\n",
      "post_url                         6321 non-null object\n",
      "reaction_count                   0 non-null float64\n",
      "reactions                        0 non-null float64\n",
      "reactors                         0 non-null float64\n",
      "shared_post_id                   170 non-null float64\n",
      "shared_post_url                  170 non-null object\n",
      "shared_text                      2484 non-null object\n",
      "shared_time                      170 non-null object\n",
      "shared_user_id                   170 non-null float64\n",
      "shared_username                  170 non-null object\n",
      "sharers                          0 non-null float64\n",
      "shares                           6361 non-null float64\n",
      "text                             6262 non-null object\n",
      "time                             6361 non-null object\n",
      "timestamp                        6320 non-null float64\n",
      "user_id                          6360 non-null float64\n",
      "user_url                         4980 non-null object\n",
      "username                         6355 non-null object\n",
      "video                            64 non-null object\n",
      "video_duration_seconds           0 non-null float64\n",
      "video_height                     0 non-null float64\n",
      "video_id                         64 non-null float64\n",
      "video_ids                        45 non-null object\n",
      "video_quality                    0 non-null float64\n",
      "video_size_MB                    0 non-null float64\n",
      "video_thumbnail                  59 non-null object\n",
      "video_watches                    0 non-null float64\n",
      "video_width                      0 non-null float64\n",
      "videos                           45 non-null object\n",
      "w3_fb_url                        0 non-null float64\n",
      "was_live                         6355 non-null float64\n",
      "with                             6026 non-null object\n",
      "dtypes: float64(27), int64(1), object(25)\n",
      "memory usage: 2.6+ MB\n"
     ]
    }
   ],
   "source": [
    "fbdf.info()"
   ]
  },
  {
   "cell_type": "code",
   "execution_count": 43,
   "metadata": {},
   "outputs": [
    {
     "name": "stdout",
     "output_type": "stream",
     "text": [
      "Unique column counts\n",
      "Unnamed: 0: 2307\n",
      "available: 1\n",
      "comments: 413\n",
      "comments_full: 1\n",
      "factcheck: 1\n",
      "header: 964\n",
      "image: 845\n",
      "image_id: 210\n",
      "image_ids: 210\n",
      "image_lowquality: 1889\n",
      "images: 846\n",
      "images_description: 148\n",
      "images_lowquality: 1890\n",
      "images_lowquality_description: 154\n",
      "is_live: 1\n",
      "likes: 446\n",
      "link: 1870\n",
      "links: 3065\n",
      "page_id: 34\n",
      "post_id: 2206\n",
      "post_text: 2542\n",
      "post_url: 2167\n",
      "reaction_count: 1\n",
      "reactions: 1\n",
      "reactors: 1\n",
      "shared_post_id: 62\n",
      "shared_post_url: 62\n",
      "shared_text: 693\n",
      "shared_time: 112\n",
      "shared_user_id: 40\n",
      "shared_username: 38\n",
      "sharers: 1\n",
      "shares: 99\n",
      "text: 2691\n",
      "time: 2232\n",
      "timestamp: 2205\n",
      "user_id: 923\n",
      "user_url: 4283\n",
      "username: 922\n",
      "video: 53\n",
      "video_duration_seconds: 1\n",
      "video_height: 1\n",
      "video_id: 29\n",
      "video_ids: 4\n",
      "video_quality: 1\n",
      "video_size_MB: 1\n",
      "video_thumbnail: 43\n",
      "video_watches: 1\n",
      "video_width: 1\n",
      "videos: 4\n",
      "w3_fb_url: 1\n",
      "was_live: 2\n",
      "with: 5339\n"
     ]
    }
   ],
   "source": [
    "print(\"Unique column counts\")\n",
    "for i in fbdf.columns:\n",
    "    print(\"{}: {}\".format(i, len(fbdf[i].unique())))"
   ]
  },
  {
   "cell_type": "code",
   "execution_count": 70,
   "metadata": {},
   "outputs": [],
   "source": [
    "remove_cols = ['Unnamed: 0', 'available', 'factcheck',\n",
    "       'image', 'image_id', 'image_ids', 'image_lowquality',\n",
    "       'images', 'images_description', 'images_lowquality',\n",
    "       'images_lowquality_description', 'is_live',\n",
    "       'reactions', 'reactors',\n",
    "       'sharers', 'shares', 'video', 'video_duration_seconds', 'video_height',\n",
    "       'video_id', 'video_ids', 'video_quality', 'video_size_MB',\n",
    "       'video_thumbnail', 'video_watches', 'video_width', 'videos',\n",
    "       'w3_fb_url', 'was_live', 'with']"
   ]
  },
  {
   "cell_type": "code",
   "execution_count": 72,
   "metadata": {},
   "outputs": [
    {
     "name": "stdout",
     "output_type": "stream",
     "text": [
      "(2690, 24)\n"
     ]
    }
   ],
   "source": [
    "# remove duplicates based on smallest null count value in each row and remove null columns\n",
    "fbdf_trim = fbdf.copy()\n",
    "fbdf_trim[\"null_count\"] = fbdf_trim.count(axis=1)\n",
    "fbdf_trim = fbdf_trim.sort_values([\"null_count\"])\n",
    "fbdf_trim = fbdf_trim.groupby([\"text\"]).aggregate('first').reset_index()\n",
    "fbdf_trim = fbdf_trim.drop(columns=remove_cols)\n",
    "print(fbdf_trim.shape)"
   ]
  },
  {
   "cell_type": "code",
   "execution_count": 75,
   "metadata": {},
   "outputs": [
    {
     "data": {
      "text/plain": [
       "Index(['text', 'comments', 'comments_full', 'header', 'likes', 'link', 'links',\n",
       "       'page_id', 'post_id', 'post_text', 'post_url', 'reaction_count',\n",
       "       'shared_post_id', 'shared_post_url', 'shared_text', 'shared_time',\n",
       "       'shared_user_id', 'shared_username', 'time', 'timestamp', 'user_id',\n",
       "       'user_url', 'username', 'null_count'],\n",
       "      dtype='object')"
      ]
     },
     "execution_count": 75,
     "metadata": {},
     "output_type": "execute_result"
    }
   ],
   "source": [
    "fbdf_trim.columns"
   ]
  },
  {
   "cell_type": "code",
   "execution_count": 76,
   "metadata": {},
   "outputs": [],
   "source": [
    "fbdf_trim.to_csv(os.path.join(datadir,\"trimmed_fb_data.csv\"))"
   ]
  },
  {
   "cell_type": "code",
   "execution_count": 94,
   "metadata": {},
   "outputs": [
    {
     "ename": "NameError",
     "evalue": "name 'fbdf_trim' is not defined",
     "output_type": "error",
     "traceback": [
      "\u001b[1;31m---------------------------------------------------------------------------\u001b[0m",
      "\u001b[1;31mNameError\u001b[0m                                 Traceback (most recent call last)",
      "\u001b[1;32m<ipython-input-94-8ff39fa006a8>\u001b[0m in \u001b[0;36m<module>\u001b[1;34m\u001b[0m\n\u001b[1;32m----> 1\u001b[1;33m \u001b[0mfbdf_trim\u001b[0m\u001b[1;33m\u001b[0m\u001b[1;33m\u001b[0m\u001b[0m\n\u001b[0m",
      "\u001b[1;31mNameError\u001b[0m: name 'fbdf_trim' is not defined"
     ]
    }
   ],
   "source": [
    "fbdf_trim"
   ]
  },
  {
   "cell_type": "code",
   "execution_count": 105,
   "metadata": {},
   "outputs": [],
   "source": [
    "comments = 'C:\\\\Users\\\\keatu\\\\Regis_archive\\\\practicum_data\\\\covid-19_long_haulers_support_comments'\n",
    "commentlist = glob(os.path.join(comments,\"*.csv\"))"
   ]
  },
  {
   "cell_type": "code",
   "execution_count": 106,
   "metadata": {},
   "outputs": [],
   "source": [
    "cdf = pd.read_csv(commentlist[1])"
   ]
  },
  {
   "cell_type": "code",
   "execution_count": 107,
   "metadata": {},
   "outputs": [
    {
     "data": {
      "text/plain": [
       "'2022-02-02 19:22:54'"
      ]
     },
     "execution_count": 107,
     "metadata": {},
     "output_type": "execute_result"
    }
   ],
   "source": [
    "cdf.loc[1,:].time"
   ]
  },
  {
   "cell_type": "code",
   "execution_count": 108,
   "metadata": {},
   "outputs": [
    {
     "data": {
      "text/plain": [
       "'[{\\'comment_id\\': \\'659369548737131\\', \\'comment_url\\': \\'https://facebook.com/659369548737131\\', \\'commenter_id\\': \\'706990933\\', \\'commenter_url\\': \\'https://facebook.com/david.spychalla?groupid=373920943948661&refid=18&__tn__=R\\', \\'commenter_name\\': \\'David Spychalla\\', \\'commenter_meta\\': None, \\'comment_text\\': \\'Thank you! The encouragement helps me to keep battling. I appreciate it! Glad your doing well.\\', \\'comment_time\\': datetime.datetime(2022, 2, 2, 21, 58, 3), \\'comment_image\\': None, \\'comment_reactors\\': [], \\'comment_reactions\\': None, \\'comment_reaction_count\\': None, \\'replies\\': []}, {\\'comment_id\\': \\'659365875404165\\', \\'comment_url\\': \\'https://facebook.com/659365875404165\\', \\'commenter_id\\': \\'1081494031\\', \\'commenter_url\\': \\'https://facebook.com/colette.tihistalongin?groupid=373920943948661&refid=18&__tn__=R\\', \\'commenter_name\\': \\'Colette Tihista-Longin\\', \\'commenter_meta\\': None, \\'comment_text\\': \\'You indeed give me hope! Thank you! Im so happy for you!!!\\', \\'comment_time\\': datetime.datetime(2022, 2, 2, 21, 52, 3), \\'comment_image\\': None, \\'comment_reactors\\': [], \\'comment_reactions\\': None, \\'comment_reaction_count\\': None, \\'replies\\': []}, {\\'comment_id\\': \\'659365848737501\\', \\'comment_url\\': \\'https://facebook.com/659365848737501\\', \\'commenter_id\\': \\'100002927914531\\', \\'commenter_url\\': \\'https://facebook.com/rosella.carraher?groupid=373920943948661&refid=18&__tn__=R\\', \\'commenter_name\\': \\'Rosella Shelly Carraher\\', \\'commenter_meta\\': None, \\'comment_text\\': \\'Thank you. \\', \\'comment_time\\': datetime.datetime(2022, 2, 2, 21, 52, 3), \\'comment_image\\': None, \\'comment_reactors\\': [], \\'comment_reactions\\': None, \\'comment_reaction_count\\': None, \\'replies\\': []}, {\\'comment_id\\': \\'659365828737503\\', \\'comment_url\\': \\'https://facebook.com/659365828737503\\', \\'commenter_id\\': \\'100005158870303\\', \\'commenter_url\\': \\'https://facebook.com/rebecca.meiswinkel?groupid=373920943948661&refid=18&__tn__=R\\', \\'commenter_name\\': \\'Rebecca Meiswinkel\\', \\'commenter_meta\\': None, \\'comment_text\\': \\'I have a very similar story and I started drinking kefir water (probiotics) twice a day and Im finally starting to get relief of my ongoing symptoms that I have had for the past two years.\\', \\'comment_time\\': datetime.datetime(2022, 2, 2, 21, 52, 3), \\'comment_image\\': None, \\'comment_reactors\\': [], \\'comment_reactions\\': None, \\'comment_reaction_count\\': None, \\'replies\\': []}, {\\'comment_id\\': \\'659365592070860\\', \\'comment_url\\': \\'https://facebook.com/659365592070860\\', \\'commenter_id\\': \\'100000264714116\\', \\'commenter_url\\': \\'https://facebook.com/beth.miller.507?groupid=373920943948661&refid=18&__tn__=R\\', \\'commenter_name\\': \\'Beth Miller\\', \\'commenter_meta\\': None, \\'comment_text\\': \\'Thank you for sharing!\\', \\'comment_time\\': datetime.datetime(2022, 2, 2, 21, 51, 3), \\'comment_image\\': None, \\'comment_reactors\\': [], \\'comment_reactions\\': None, \\'comment_reaction_count\\': None, \\'replies\\': []}, {\\'comment_id\\': \\'659365402070879\\', \\'comment_url\\': \\'https://facebook.com/659365402070879\\', \\'commenter_id\\': \\'100071794113527\\', \\'commenter_url\\': \\'https://facebook.com/profile.php?id=100071794113527&groupid=373920943948661&refid=18&__tn__=R\\', \\'commenter_name\\': \\'Vienna Walter\\', \\'commenter_meta\\': None, \\'comment_text\\': \"Hey fellow lovelies, I\\'m facing the skin issue like. I had normal to dry skin but got covid in April 2021. After covid I got oily skin, itchy eyebrows, scalp got oily, even eyelids (started in june-July approx) even got seborrheic dermatitis because of this. Didn\\'t face dandruff in my life. But I\\'m looking for an answer. I\\'m 22F. I just want to cure it. Please reply if you can. I\\'ve been to many dermatologist. They just give steroids. I think some hormonal imbalance. I\\'m hopeless right now. Thamks in advance.\\\\nI get this white greasy substance on my hairline and eyebrow after shower. All happened after covid.\", \\'comment_time\\': datetime.datetime(2022, 2, 2, 21, 51, 3), \\'comment_image\\': \\'https://scontent.fapa1-2.fna.fbcdn.net/v/t39.30808-6/cp0/e15/q65/s180x540/273160767_147638874305916_1004277472612807569_n.jpg?_nc_cat=100&ccb=1-5&_nc_sid=1480c5&efg=eyJpIjoidCJ9&_nc_ohc=pULTVp2b36QAX9VSs3z&tn=k6qcesJDFHO2_MLS&_nc_ht=scontent.fapa1-2.fna&oh=00_AT-lElzoBoxyWZxwM1sapMoakBufZrEfoX-Xcs-fTWzdBQ&oe=61FFFD0D\\', \\'comment_reactors\\': [], \\'comment_reactions\\': None, \\'comment_reaction_count\\': None, \\'replies\\': []}, {\\'comment_id\\': \\'659365142070905\\', \\'comment_url\\': \\'https://facebook.com/659365142070905\\', \\'commenter_id\\': \\'1394587267\\', \\'commenter_url\\': \\'https://facebook.com/andrea.dominguezblanco?groupid=373920943948661&refid=18&__tn__=R\\', \\'commenter_name\\': \\'Andrea Dominguez-Blanco\\', \\'commenter_meta\\': None, \\'comment_text\\': \\'Praise God for providing you the strength and patience needed to manage for so long!! I know healing is coming for us all\\', \\'comment_time\\': datetime.datetime(2022, 2, 2, 21, 51, 3), \\'comment_image\\': None, \\'comment_reactors\\': [], \\'comment_reactions\\': None, \\'comment_reaction_count\\': None, \\'replies\\': []}, {\\'comment_id\\': \\'659363115404441\\', \\'comment_url\\': \\'https://facebook.com/659363115404441\\', \\'commenter_id\\': \\'599145924\\', \\'commenter_url\\': \\'https://facebook.com/katelynn.place?groupid=373920943948661&refid=18&__tn__=R\\', \\'commenter_name\\': \\'Katey McCrohan\\', \\'commenter_meta\\': None, \\'comment_text\\': \\'https://\\\\nmy.clevelandclin\\\\nic.org/health/\\\\ndiseases/\\\\n16560-postural-o\\\\nrthostatic-tach\\\\nycardia-syndrom\\\\ne-pots\\\\n\\\\nPOTS is also caused by Covid. Ive had it for over a decade and just wanted yall to have this info.\\\\n\\\\nKeep up the good work!\\', \\'comment_time\\': datetime.datetime(2022, 2, 2, 21, 46, 3), \\'comment_image\\': \\'https://my.clevelandclinic.org/health/diseases/16560-postural-orthostatic-tachycardia-syndrome-pots?fbclid=IwAR3UcOpO3MaZEwSy_ft8WWdMS1SXUb7NRqNdznmQQDGTW2M-PvSYF2d6ntg\\', \\'comment_reactors\\': [], \\'comment_reactions\\': None, \\'comment_reaction_count\\': None, \\'replies\\': []}, {\\'comment_id\\': \\'659361692071250\\', \\'comment_url\\': \\'https://facebook.com/659361692071250\\', \\'commenter_id\\': \\'100001648157971\\', \\'commenter_url\\': \\'https://facebook.com/amber.lamb.940?groupid=373920943948661&refid=18&__tn__=R\\', \\'commenter_name\\': \\'Amber Lamb\\', \\'commenter_meta\\': None, \\'comment_text\\': \\'I am so happy for you!\\', \\'comment_time\\': datetime.datetime(2022, 2, 2, 21, 45, 3), \\'comment_image\\': None, \\'comment_reactors\\': [], \\'comment_reactions\\': None, \\'comment_reaction_count\\': None, \\'replies\\': []}, {\\'comment_id\\': \\'659361248737961\\', \\'comment_url\\': \\'https://facebook.com/659361248737961\\', \\'commenter_id\\': \\'1384359539\\', \\'commenter_url\\': \\'https://facebook.com/saunya.munro?groupid=373920943948661&refid=18&__tn__=R\\', \\'commenter_name\\': \\'Saunya Munro\\', \\'commenter_meta\\': None, \\'comment_text\\': \\'I just read an article today that said improving gut health with probiotics is helping those with long Covid. What probiotics are you using?\\', \\'comment_time\\': datetime.datetime(2022, 2, 2, 21, 44, 3), \\'comment_image\\': None, \\'comment_reactors\\': [], \\'comment_reactions\\': None, \\'comment_reaction_count\\': None, \\'replies\\': []}, {\\'comment_id\\': \\'659354818738604\\', \\'comment_url\\': \\'https://facebook.com/659354818738604\\', \\'commenter_id\\': \\'100028068911231\\', \\'commenter_url\\': \\'https://facebook.com/jennifer.blair.75685?groupid=373920943948661&refid=18&__tn__=R\\', \\'commenter_name\\': \\'Jenny Lynn\\', \\'commenter_meta\\': None, \\'comment_text\\': \"I needed this! Thank you. I\\'m hopeful that someday, these headaches will finally subside and I\\'ll feel normal again.\", \\'comment_time\\': datetime.datetime(2022, 2, 2, 21, 36, 3), \\'comment_image\\': None, \\'comment_reactors\\': [], \\'comment_reactions\\': None, \\'comment_reaction_count\\': None, \\'replies\\': []}]'"
      ]
     },
     "execution_count": 108,
     "metadata": {},
     "output_type": "execute_result"
    }
   ],
   "source": [
    "comment = cdf.loc[1,:][\"comments_full\"]\n",
    "comment"
   ]
  },
  {
   "cell_type": "code",
   "execution_count": 90,
   "metadata": {},
   "outputs": [],
   "source": [
    "ex = 'datetime.datetime(2022, 2, 2, 21, 58, 3)'\n",
    "date_re = re.compile(\"datetime.datetime(\\(.*?\\))\")\n",
    "keep = re.search(date_re,ex).group(1)\n",
    "keep = re.sub(\"[()]\",\"\\\"\",keep)"
   ]
  },
  {
   "cell_type": "code",
   "execution_count": 191,
   "metadata": {},
   "outputs": [
    {
     "name": "stdout",
     "output_type": "stream",
     "text": [
      "[{'comment_id': '659369548737131', 'comment_url': 'https://facebook.com/659369548737131', 'commenter_id': '706990933', 'commenter_url': 'https://facebook.com/david.spychalla?groupid=373920943948661&refid=18&__tn__=R', 'commenter_name': 'David Spychalla', 'commenter_meta': None, 'comment_text': 'Thank you! The encouragement helps me to keep battling. I appreciate it! Glad your doing well.', 'comment_time': datetime.datetime(2022, 2, 2, 21, 58, 3), 'comment_image': None, 'comment_reactors': [], 'comment_reactions': None, 'comment_reaction_count': None, 'replies': []}, {'comment_id': '659365875404165', 'comment_url': 'https://facebook.com/659365875404165', 'commenter_id': '1081494031', 'commenter_url': 'https://facebook.com/colette.tihistalongin?groupid=373920943948661&refid=18&__tn__=R', 'commenter_name': 'Colette Tihista-Longin', 'commenter_meta': None, 'comment_text': 'You indeed give me hope! Thank you! Im so happy for you!!!', 'comment_time': datetime.datetime(2022, 2, 2, 21, 52, 3), 'comment_image': None, 'comment_reactors': [], 'comment_reactions': None, 'comment_reaction_count': None, 'replies': []}, {'comment_id': '659365848737501', 'comment_url': 'https://facebook.com/659365848737501', 'commenter_id': '100002927914531', 'commenter_url': 'https://facebook.com/rosella.carraher?groupid=373920943948661&refid=18&__tn__=R', 'commenter_name': 'Rosella Shelly Carraher', 'commenter_meta': None, 'comment_text': 'Thank you. ', 'comment_time': datetime.datetime(2022, 2, 2, 21, 52, 3), 'comment_image': None, 'comment_reactors': [], 'comment_reactions': None, 'comment_reaction_count': None, 'replies': []}, {'comment_id': '659365828737503', 'comment_url': 'https://facebook.com/659365828737503', 'commenter_id': '100005158870303', 'commenter_url': 'https://facebook.com/rebecca.meiswinkel?groupid=373920943948661&refid=18&__tn__=R', 'commenter_name': 'Rebecca Meiswinkel', 'commenter_meta': None, 'comment_text': 'I have a very similar story and I started drinking kefir water (probiotics) twice a day and Im finally starting to get relief of my ongoing symptoms that I have had for the past two years.', 'comment_time': datetime.datetime(2022, 2, 2, 21, 52, 3), 'comment_image': None, 'comment_reactors': [], 'comment_reactions': None, 'comment_reaction_count': None, 'replies': []}, {'comment_id': '659365592070860', 'comment_url': 'https://facebook.com/659365592070860', 'commenter_id': '100000264714116', 'commenter_url': 'https://facebook.com/beth.miller.507?groupid=373920943948661&refid=18&__tn__=R', 'commenter_name': 'Beth Miller', 'commenter_meta': None, 'comment_text': 'Thank you for sharing!', 'comment_time': datetime.datetime(2022, 2, 2, 21, 51, 3), 'comment_image': None, 'comment_reactors': [], 'comment_reactions': None, 'comment_reaction_count': None, 'replies': []}, {'comment_id': '659365402070879', 'comment_url': 'https://facebook.com/659365402070879', 'commenter_id': '100071794113527', 'commenter_url': 'https://facebook.com/profile.php?id=100071794113527&groupid=373920943948661&refid=18&__tn__=R', 'commenter_name': 'Vienna Walter', 'commenter_meta': None, 'comment_text': \"Hey fellow lovelies, I'm facing the skin issue like. I had normal to dry skin but got covid in April 2021. After covid I got oily skin, itchy eyebrows, scalp got oily, even eyelids (started in june-July approx) even got seborrheic dermatitis because of this. Didn't face dandruff in my life. But I'm looking for an answer. I'm 22F. I just want to cure it. Please reply if you can. I've been to many dermatologist. They just give steroids. I think some hormonal imbalance. I'm hopeless right now. Thamks in advance.\\nI get this white greasy substance on my hairline and eyebrow after shower. All happened after covid.\", 'comment_time': datetime.datetime(2022, 2, 2, 21, 51, 3), 'comment_image': 'https://scontent.fapa1-2.fna.fbcdn.net/v/t39.30808-6/cp0/e15/q65/s180x540/273160767_147638874305916_1004277472612807569_n.jpg?_nc_cat=100&ccb=1-5&_nc_sid=1480c5&efg=eyJpIjoidCJ9&_nc_ohc=pULTVp2b36QAX9VSs3z&tn=k6qcesJDFHO2_MLS&_nc_ht=scontent.fapa1-2.fna&oh=00_AT-lElzoBoxyWZxwM1sapMoakBufZrEfoX-Xcs-fTWzdBQ&oe=61FFFD0D', 'comment_reactors': [], 'comment_reactions': None, 'comment_reaction_count': None, 'replies': []}, {'comment_id': '659365142070905', 'comment_url': 'https://facebook.com/659365142070905', 'commenter_id': '1394587267', 'commenter_url': 'https://facebook.com/andrea.dominguezblanco?groupid=373920943948661&refid=18&__tn__=R', 'commenter_name': 'Andrea Dominguez-Blanco', 'commenter_meta': None, 'comment_text': 'Praise God for providing you the strength and patience needed to manage for so long!! I know healing is coming for us all', 'comment_time': datetime.datetime(2022, 2, 2, 21, 51, 3), 'comment_image': None, 'comment_reactors': [], 'comment_reactions': None, 'comment_reaction_count': None, 'replies': []}, {'comment_id': '659363115404441', 'comment_url': 'https://facebook.com/659363115404441', 'commenter_id': '599145924', 'commenter_url': 'https://facebook.com/katelynn.place?groupid=373920943948661&refid=18&__tn__=R', 'commenter_name': 'Katey McCrohan', 'commenter_meta': None, 'comment_text': 'https://\\nmy.clevelandclin\\nic.org/health/\\ndiseases/\\n16560-postural-o\\nrthostatic-tach\\nycardia-syndrom\\ne-pots\\n\\nPOTS is also caused by Covid. Ive had it for over a decade and just wanted yall to have this info.\\n\\nKeep up the good work!', 'comment_time': datetime.datetime(2022, 2, 2, 21, 46, 3), 'comment_image': 'https://my.clevelandclinic.org/health/diseases/16560-postural-orthostatic-tachycardia-syndrome-pots?fbclid=IwAR3UcOpO3MaZEwSy_ft8WWdMS1SXUb7NRqNdznmQQDGTW2M-PvSYF2d6ntg', 'comment_reactors': [], 'comment_reactions': None, 'comment_reaction_count': None, 'replies': []}, {'comment_id': '659361692071250', 'comment_url': 'https://facebook.com/659361692071250', 'commenter_id': '100001648157971', 'commenter_url': 'https://facebook.com/amber.lamb.940?groupid=373920943948661&refid=18&__tn__=R', 'commenter_name': 'Amber Lamb', 'commenter_meta': None, 'comment_text': 'I am so happy for you!', 'comment_time': datetime.datetime(2022, 2, 2, 21, 45, 3), 'comment_image': None, 'comment_reactors': [], 'comment_reactions': None, 'comment_reaction_count': None, 'replies': []}, {'comment_id': '659361248737961', 'comment_url': 'https://facebook.com/659361248737961', 'commenter_id': '1384359539', 'commenter_url': 'https://facebook.com/saunya.munro?groupid=373920943948661&refid=18&__tn__=R', 'commenter_name': 'Saunya Munro', 'commenter_meta': None, 'comment_text': 'I just read an article today that said improving gut health with probiotics is helping those with long Covid. What probiotics are you using?', 'comment_time': datetime.datetime(2022, 2, 2, 21, 44, 3), 'comment_image': None, 'comment_reactors': [], 'comment_reactions': None, 'comment_reaction_count': None, 'replies': []}, {'comment_id': '659354818738604', 'comment_url': 'https://facebook.com/659354818738604', 'commenter_id': '100028068911231', 'commenter_url': 'https://facebook.com/jennifer.blair.75685?groupid=373920943948661&refid=18&__tn__=R', 'commenter_name': 'Jenny Lynn', 'commenter_meta': None, 'comment_text': \"I needed this! Thank you. I'm hopeful that someday, these headaches will finally subside and I'll feel normal again.\", 'comment_time': datetime.datetime(2022, 2, 2, 21, 36, 3), 'comment_image': None, 'comment_reactors': [], 'comment_reactions': None, 'comment_reaction_count': None, 'replies': []}]\n"
     ]
    }
   ],
   "source": [
    "print(comment)"
   ]
  },
  {
   "cell_type": "code",
   "execution_count": 200,
   "metadata": {},
   "outputs": [],
   "source": [
    "def reform_comment(text):\n",
    "    date_re = re.compile(\"datetime.datetime(\\(.*?\\))\")\n",
    "    dates = re.findall(\"datetime.datetime\\(.*?\\)\", text)\n",
    "    for date in dates:\n",
    "        time_obj = eval(date)\n",
    "        formatted = \"'{}-{}-{} {}:{}:{}'\".format(time_obj.year,time_obj.month,time_obj.day,time_obj.hour,time_obj.minute,time_obj.second)\n",
    "        text = text.replace(date,formatted)\n",
    "    text = text.replace(\"None\",\"[]\")\n",
    "    return ast.literal_eval(text)\n",
    "\n",
    "cdf[\"comments_full\"] = cdf[\"comments_full\"].apply(reform_comment)"
   ]
  },
  {
   "cell_type": "code",
   "execution_count": 204,
   "metadata": {},
   "outputs": [
    {
     "data": {
      "text/plain": [
       "[{'comment_id': '659369548737131', 'comment_url': 'https://facebook.com/659369548737131', 'commenter_id': '706990933', 'commenter_url': 'https://facebook.com/david.spychalla?groupid=373920943948661&refid=18&__tn__=R', 'commenter_name': 'David Spychalla', 'commenter_meta': [], 'comment_text': 'Thank you! The encouragement helps me to keep battling. I appreciate it! Glad your doing well.', 'comment_time': '2022-2-2 21:58:3', 'comment_image': [], 'comment_reactors': [], 'comment_reactions': [], 'comment_reaction_count': [], 'replies': []}, {'comment_id': '659365875404165', 'comment_url': 'https://facebook.com/659365875404165', 'commenter_id': '1081494031', 'commenter_url': 'https://facebook.com/colette.tihistalongin?groupid=373920943948661&refid=18&__tn__=R', 'commenter_name': 'Colette Tihista-Longin', 'commenter_meta': [], 'comment_text': 'You indeed give me hope! Thank you! Im so happy for you!!!', 'comment_time': '2022-2-2 21:52:3', 'comment_image': [], 'comment_reactors': [], 'comment_reactions': [], 'comment_reaction_count': [], 'replies': []}, {'comment_id': '659365848737501', 'comment_url': 'https://facebook.com/659365848737501', 'commenter_id': '100002927914531', 'commenter_url': 'https://facebook.com/rosella.carraher?groupid=373920943948661&refid=18&__tn__=R', 'commenter_name': 'Rosella Shelly Carraher', 'commenter_meta': [], 'comment_text': 'Thank you. ', 'comment_time': '2022-2-2 21:52:3', 'comment_image': [], 'comment_reactors': [], 'comment_reactions': [], 'comment_reaction_count': [], 'replies': []}, {'comment_id': '659365828737503', 'comment_url': 'https://facebook.com/659365828737503', 'commenter_id': '100005158870303', 'commenter_url': 'https://facebook.com/rebecca.meiswinkel?groupid=373920943948661&refid=18&__tn__=R', 'commenter_name': 'Rebecca Meiswinkel', 'commenter_meta': [], 'comment_text': 'I have a very similar story and I started drinking kefir water (probiotics) twice a day and Im finally starting to get relief of my ongoing symptoms that I have had for the past two years.', 'comment_time': '2022-2-2 21:52:3', 'comment_image': [], 'comment_reactors': [], 'comment_reactions': [], 'comment_reaction_count': [], 'replies': []}, {'comment_id': '659365592070860', 'comment_url': 'https://facebook.com/659365592070860', 'commenter_id': '100000264714116', 'commenter_url': 'https://facebook.com/beth.miller.507?groupid=373920943948661&refid=18&__tn__=R', 'commenter_name': 'Beth Miller', 'commenter_meta': [], 'comment_text': 'Thank you for sharing!', 'comment_time': '2022-2-2 21:51:3', 'comment_image': [], 'comment_reactors': [], 'comment_reactions': [], 'comment_reaction_count': [], 'replies': []}, {'comment_id': '659365402070879', 'comment_url': 'https://facebook.com/659365402070879', 'commenter_id': '100071794113527', 'commenter_url': 'https://facebook.com/profile.php?id=100071794113527&groupid=373920943948661&refid=18&__tn__=R', 'commenter_name': 'Vienna Walter', 'commenter_meta': [], 'comment_text': \"Hey fellow lovelies, I'm facing the skin issue like. I had normal to dry skin but got covid in April 2021. After covid I got oily skin, itchy eyebrows, scalp got oily, even eyelids (started in june-July approx) even got seborrheic dermatitis because of this. Didn't face dandruff in my life. But I'm looking for an answer. I'm 22F. I just want to cure it. Please reply if you can. I've been to many dermatologist. They just give steroids. I think some hormonal imbalance. I'm hopeless right now. Thamks in advance.\\nI get this white greasy substance on my hairline and eyebrow after shower. All happened after covid.\", 'comment_time': '2022-2-2 21:51:3', 'comment_image': 'https://scontent.fapa1-2.fna.fbcdn.net/v/t39.30808-6/cp0/e15/q65/s180x540/273160767_147638874305916_1004277472612807569_n.jpg?_nc_cat=100&ccb=1-5&_nc_sid=1480c5&efg=eyJpIjoidCJ9&_nc_ohc=pULTVp2b36QAX9VSs3z&tn=k6qcesJDFHO2_MLS&_nc_ht=scontent.fapa1-2.fna&oh=00_AT-lElzoBoxyWZxwM1sapMoakBufZrEfoX-Xcs-fTWzdBQ&oe=61FFFD0D', 'comment_reactors': [], 'comment_reactions': [], 'comment_reaction_count': [], 'replies': []}, {'comment_id': '659365142070905', 'comment_url': 'https://facebook.com/659365142070905', 'commenter_id': '1394587267', 'commenter_url': 'https://facebook.com/andrea.dominguezblanco?groupid=373920943948661&refid=18&__tn__=R', 'commenter_name': 'Andrea Dominguez-Blanco', 'commenter_meta': [], 'comment_text': 'Praise God for providing you the strength and patience needed to manage for so long!! I know healing is coming for us all', 'comment_time': '2022-2-2 21:51:3', 'comment_image': [], 'comment_reactors': [], 'comment_reactions': [], 'comment_reaction_count': [], 'replies': []}, {'comment_id': '659363115404441', 'comment_url': 'https://facebook.com/659363115404441', 'commenter_id': '599145924', 'commenter_url': 'https://facebook.com/katelynn.place?groupid=373920943948661&refid=18&__tn__=R', 'commenter_name': 'Katey McCrohan', 'commenter_meta': [], 'comment_text': 'https://\\nmy.clevelandclin\\nic.org/health/\\ndiseases/\\n16560-postural-o\\nrthostatic-tach\\nycardia-syndrom\\ne-pots\\n\\nPOTS is also caused by Covid. Ive had it for over a decade and just wanted yall to have this info.\\n\\nKeep up the good work!', 'comment_time': '2022-2-2 21:46:3', 'comment_image': 'https://my.clevelandclinic.org/health/diseases/16560-postural-orthostatic-tachycardia-syndrome-pots?fbclid=IwAR3UcOpO3MaZEwSy_ft8WWdMS1SXUb7NRqNdznmQQDGTW2M-PvSYF2d6ntg', 'comment_reactors': [], 'comment_reactions': [], 'comment_reaction_count': [], 'replies': []}, {'comment_id': '659361692071250', 'comment_url': 'https://facebook.com/659361692071250', 'commenter_id': '100001648157971', 'commenter_url': 'https://facebook.com/amber.lamb.940?groupid=373920943948661&refid=18&__tn__=R', 'commenter_name': 'Amber Lamb', 'commenter_meta': [], 'comment_text': 'I am so happy for you!', 'comment_time': '2022-2-2 21:45:3', 'comment_image': [], 'comment_reactors': [], 'comment_reactions': [], 'comment_reaction_count': [], 'replies': []}, {'comment_id': '659361248737961', 'comment_url': 'https://facebook.com/659361248737961', 'commenter_id': '1384359539', 'commenter_url': 'https://facebook.com/saunya.munro?groupid=373920943948661&refid=18&__tn__=R', 'commenter_name': 'Saunya Munro', 'commenter_meta': [], 'comment_text': 'I just read an article today that said improving gut health with probiotics is helping those with long Covid. What probiotics are you using?', 'comment_time': '2022-2-2 21:44:3', 'comment_image': [], 'comment_reactors': [], 'comment_reactions': [], 'comment_reaction_count': [], 'replies': []}, {'comment_id': '659354818738604', 'comment_url': 'https://facebook.com/659354818738604', 'commenter_id': '100028068911231', 'commenter_url': 'https://facebook.com/jennifer.blair.75685?groupid=373920943948661&refid=18&__tn__=R', 'commenter_name': 'Jenny Lynn', 'commenter_meta': [], 'comment_text': \"I needed this! Thank you. I'm hopeful that someday, these headaches will finally subside and I'll feel normal again.\", 'comment_time': '2022-2-2 21:36:3', 'comment_image': [], 'comment_reactors': [], 'comment_reactions': [], 'comment_reaction_count': [], 'replies': []}]"
      ]
     },
     "execution_count": 204,
     "metadata": {},
     "output_type": "execute_result"
    }
   ],
   "source": [
    "cdf[\"comments_full\"][1]"
   ]
  },
  {
   "cell_type": "code",
   "execution_count": 151,
   "metadata": {},
   "outputs": [
    {
     "ename": "JSONDecodeError",
     "evalue": "Expecting value: line 1 column 274 (char 273)",
     "output_type": "error",
     "traceback": [
      "\u001b[1;31m---------------------------------------------------------------------------\u001b[0m",
      "\u001b[1;31mJSONDecodeError\u001b[0m                           Traceback (most recent call last)",
      "\u001b[1;32m<ipython-input-151-02c6a1b8f0d6>\u001b[0m in \u001b[0;36m<module>\u001b[1;34m\u001b[0m\n\u001b[0;32m      3\u001b[0m     \u001b[1;32mreturn\u001b[0m \u001b[0mdict\u001b[0m\u001b[1;33m(\u001b[0m\u001b[0mmap\u001b[0m\u001b[1;33m(\u001b[0m\u001b[0mascii_encode\u001b[0m\u001b[1;33m,\u001b[0m \u001b[0mpair\u001b[0m\u001b[1;33m)\u001b[0m \u001b[1;32mfor\u001b[0m \u001b[0mpair\u001b[0m \u001b[1;32min\u001b[0m \u001b[0mdata\u001b[0m\u001b[1;33m.\u001b[0m\u001b[0mitems\u001b[0m\u001b[1;33m(\u001b[0m\u001b[1;33m)\u001b[0m\u001b[1;33m)\u001b[0m\u001b[1;33m\u001b[0m\u001b[1;33m\u001b[0m\u001b[0m\n\u001b[0;32m      4\u001b[0m \u001b[1;33m\u001b[0m\u001b[0m\n\u001b[1;32m----> 5\u001b[1;33m \u001b[0mjson\u001b[0m\u001b[1;33m.\u001b[0m\u001b[0mloads\u001b[0m\u001b[1;33m(\u001b[0m\u001b[0mreform_comment\u001b[0m\u001b[1;33m(\u001b[0m\u001b[0mcomment\u001b[0m\u001b[1;33m)\u001b[0m\u001b[1;33m,\u001b[0m \u001b[0mobject_hook\u001b[0m\u001b[1;33m=\u001b[0m\u001b[0mascii_encode_dict\u001b[0m\u001b[1;33m)\u001b[0m\u001b[1;33m\u001b[0m\u001b[1;33m\u001b[0m\u001b[0m\n\u001b[0m",
      "\u001b[1;32m~\\Anaconda3\\lib\\json\\__init__.py\u001b[0m in \u001b[0;36mloads\u001b[1;34m(s, encoding, cls, object_hook, parse_float, parse_int, parse_constant, object_pairs_hook, **kw)\u001b[0m\n\u001b[0;32m    359\u001b[0m     \u001b[1;32mif\u001b[0m \u001b[0mparse_constant\u001b[0m \u001b[1;32mis\u001b[0m \u001b[1;32mnot\u001b[0m \u001b[1;32mNone\u001b[0m\u001b[1;33m:\u001b[0m\u001b[1;33m\u001b[0m\u001b[1;33m\u001b[0m\u001b[0m\n\u001b[0;32m    360\u001b[0m         \u001b[0mkw\u001b[0m\u001b[1;33m[\u001b[0m\u001b[1;34m'parse_constant'\u001b[0m\u001b[1;33m]\u001b[0m \u001b[1;33m=\u001b[0m \u001b[0mparse_constant\u001b[0m\u001b[1;33m\u001b[0m\u001b[1;33m\u001b[0m\u001b[0m\n\u001b[1;32m--> 361\u001b[1;33m     \u001b[1;32mreturn\u001b[0m \u001b[0mcls\u001b[0m\u001b[1;33m(\u001b[0m\u001b[1;33m**\u001b[0m\u001b[0mkw\u001b[0m\u001b[1;33m)\u001b[0m\u001b[1;33m.\u001b[0m\u001b[0mdecode\u001b[0m\u001b[1;33m(\u001b[0m\u001b[0ms\u001b[0m\u001b[1;33m)\u001b[0m\u001b[1;33m\u001b[0m\u001b[1;33m\u001b[0m\u001b[0m\n\u001b[0m",
      "\u001b[1;32m~\\Anaconda3\\lib\\json\\decoder.py\u001b[0m in \u001b[0;36mdecode\u001b[1;34m(self, s, _w)\u001b[0m\n\u001b[0;32m    335\u001b[0m \u001b[1;33m\u001b[0m\u001b[0m\n\u001b[0;32m    336\u001b[0m         \"\"\"\n\u001b[1;32m--> 337\u001b[1;33m         \u001b[0mobj\u001b[0m\u001b[1;33m,\u001b[0m \u001b[0mend\u001b[0m \u001b[1;33m=\u001b[0m \u001b[0mself\u001b[0m\u001b[1;33m.\u001b[0m\u001b[0mraw_decode\u001b[0m\u001b[1;33m(\u001b[0m\u001b[0ms\u001b[0m\u001b[1;33m,\u001b[0m \u001b[0midx\u001b[0m\u001b[1;33m=\u001b[0m\u001b[0m_w\u001b[0m\u001b[1;33m(\u001b[0m\u001b[0ms\u001b[0m\u001b[1;33m,\u001b[0m \u001b[1;36m0\u001b[0m\u001b[1;33m)\u001b[0m\u001b[1;33m.\u001b[0m\u001b[0mend\u001b[0m\u001b[1;33m(\u001b[0m\u001b[1;33m)\u001b[0m\u001b[1;33m)\u001b[0m\u001b[1;33m\u001b[0m\u001b[1;33m\u001b[0m\u001b[0m\n\u001b[0m\u001b[0;32m    338\u001b[0m         \u001b[0mend\u001b[0m \u001b[1;33m=\u001b[0m \u001b[0m_w\u001b[0m\u001b[1;33m(\u001b[0m\u001b[0ms\u001b[0m\u001b[1;33m,\u001b[0m \u001b[0mend\u001b[0m\u001b[1;33m)\u001b[0m\u001b[1;33m.\u001b[0m\u001b[0mend\u001b[0m\u001b[1;33m(\u001b[0m\u001b[1;33m)\u001b[0m\u001b[1;33m\u001b[0m\u001b[1;33m\u001b[0m\u001b[0m\n\u001b[0;32m    339\u001b[0m         \u001b[1;32mif\u001b[0m \u001b[0mend\u001b[0m \u001b[1;33m!=\u001b[0m \u001b[0mlen\u001b[0m\u001b[1;33m(\u001b[0m\u001b[0ms\u001b[0m\u001b[1;33m)\u001b[0m\u001b[1;33m:\u001b[0m\u001b[1;33m\u001b[0m\u001b[1;33m\u001b[0m\u001b[0m\n",
      "\u001b[1;32m~\\Anaconda3\\lib\\json\\decoder.py\u001b[0m in \u001b[0;36mraw_decode\u001b[1;34m(self, s, idx)\u001b[0m\n\u001b[0;32m    353\u001b[0m             \u001b[0mobj\u001b[0m\u001b[1;33m,\u001b[0m \u001b[0mend\u001b[0m \u001b[1;33m=\u001b[0m \u001b[0mself\u001b[0m\u001b[1;33m.\u001b[0m\u001b[0mscan_once\u001b[0m\u001b[1;33m(\u001b[0m\u001b[0ms\u001b[0m\u001b[1;33m,\u001b[0m \u001b[0midx\u001b[0m\u001b[1;33m)\u001b[0m\u001b[1;33m\u001b[0m\u001b[1;33m\u001b[0m\u001b[0m\n\u001b[0;32m    354\u001b[0m         \u001b[1;32mexcept\u001b[0m \u001b[0mStopIteration\u001b[0m \u001b[1;32mas\u001b[0m \u001b[0merr\u001b[0m\u001b[1;33m:\u001b[0m\u001b[1;33m\u001b[0m\u001b[1;33m\u001b[0m\u001b[0m\n\u001b[1;32m--> 355\u001b[1;33m             \u001b[1;32mraise\u001b[0m \u001b[0mJSONDecodeError\u001b[0m\u001b[1;33m(\u001b[0m\u001b[1;34m\"Expecting value\"\u001b[0m\u001b[1;33m,\u001b[0m \u001b[0ms\u001b[0m\u001b[1;33m,\u001b[0m \u001b[0merr\u001b[0m\u001b[1;33m.\u001b[0m\u001b[0mvalue\u001b[0m\u001b[1;33m)\u001b[0m \u001b[1;32mfrom\u001b[0m \u001b[1;32mNone\u001b[0m\u001b[1;33m\u001b[0m\u001b[1;33m\u001b[0m\u001b[0m\n\u001b[0m\u001b[0;32m    356\u001b[0m         \u001b[1;32mreturn\u001b[0m \u001b[0mobj\u001b[0m\u001b[1;33m,\u001b[0m \u001b[0mend\u001b[0m\u001b[1;33m\u001b[0m\u001b[1;33m\u001b[0m\u001b[0m\n",
      "\u001b[1;31mJSONDecodeError\u001b[0m: Expecting value: line 1 column 274 (char 273)"
     ]
    }
   ],
   "source": [
    "def ascii_encode_dict(data):\n",
    "    ascii_encode = lambda x: x.encode('ascii','ignore')\n",
    "    return dict(map(ascii_encode, pair) for pair in data.items())"
   ]
  },
  {
   "cell_type": "code",
   "execution_count": 155,
   "metadata": {},
   "outputs": [
    {
     "ename": "JSONDecodeError",
     "evalue": "Expecting property name enclosed in double quotes: line 1 column 3 (char 2)",
     "output_type": "error",
     "traceback": [
      "\u001b[1;31m---------------------------------------------------------------------------\u001b[0m",
      "\u001b[1;31mJSONDecodeError\u001b[0m                           Traceback (most recent call last)",
      "\u001b[1;32m<ipython-input-155-ca3d016fde20>\u001b[0m in \u001b[0;36m<module>\u001b[1;34m\u001b[0m\n\u001b[1;32m----> 1\u001b[1;33m \u001b[0mjson\u001b[0m\u001b[1;33m.\u001b[0m\u001b[0mloads\u001b[0m\u001b[1;33m(\u001b[0m\u001b[0mcomment\u001b[0m\u001b[1;33m)\u001b[0m\u001b[1;33m\u001b[0m\u001b[1;33m\u001b[0m\u001b[0m\n\u001b[0m",
      "\u001b[1;32m~\\Anaconda3\\lib\\json\\__init__.py\u001b[0m in \u001b[0;36mloads\u001b[1;34m(s, encoding, cls, object_hook, parse_float, parse_int, parse_constant, object_pairs_hook, **kw)\u001b[0m\n\u001b[0;32m    346\u001b[0m             \u001b[0mparse_int\u001b[0m \u001b[1;32mis\u001b[0m \u001b[1;32mNone\u001b[0m \u001b[1;32mand\u001b[0m \u001b[0mparse_float\u001b[0m \u001b[1;32mis\u001b[0m \u001b[1;32mNone\u001b[0m \u001b[1;32mand\u001b[0m\u001b[1;33m\u001b[0m\u001b[1;33m\u001b[0m\u001b[0m\n\u001b[0;32m    347\u001b[0m             parse_constant is None and object_pairs_hook is None and not kw):\n\u001b[1;32m--> 348\u001b[1;33m         \u001b[1;32mreturn\u001b[0m \u001b[0m_default_decoder\u001b[0m\u001b[1;33m.\u001b[0m\u001b[0mdecode\u001b[0m\u001b[1;33m(\u001b[0m\u001b[0ms\u001b[0m\u001b[1;33m)\u001b[0m\u001b[1;33m\u001b[0m\u001b[1;33m\u001b[0m\u001b[0m\n\u001b[0m\u001b[0;32m    349\u001b[0m     \u001b[1;32mif\u001b[0m \u001b[0mcls\u001b[0m \u001b[1;32mis\u001b[0m \u001b[1;32mNone\u001b[0m\u001b[1;33m:\u001b[0m\u001b[1;33m\u001b[0m\u001b[1;33m\u001b[0m\u001b[0m\n\u001b[0;32m    350\u001b[0m         \u001b[0mcls\u001b[0m \u001b[1;33m=\u001b[0m \u001b[0mJSONDecoder\u001b[0m\u001b[1;33m\u001b[0m\u001b[1;33m\u001b[0m\u001b[0m\n",
      "\u001b[1;32m~\\Anaconda3\\lib\\json\\decoder.py\u001b[0m in \u001b[0;36mdecode\u001b[1;34m(self, s, _w)\u001b[0m\n\u001b[0;32m    335\u001b[0m \u001b[1;33m\u001b[0m\u001b[0m\n\u001b[0;32m    336\u001b[0m         \"\"\"\n\u001b[1;32m--> 337\u001b[1;33m         \u001b[0mobj\u001b[0m\u001b[1;33m,\u001b[0m \u001b[0mend\u001b[0m \u001b[1;33m=\u001b[0m \u001b[0mself\u001b[0m\u001b[1;33m.\u001b[0m\u001b[0mraw_decode\u001b[0m\u001b[1;33m(\u001b[0m\u001b[0ms\u001b[0m\u001b[1;33m,\u001b[0m \u001b[0midx\u001b[0m\u001b[1;33m=\u001b[0m\u001b[0m_w\u001b[0m\u001b[1;33m(\u001b[0m\u001b[0ms\u001b[0m\u001b[1;33m,\u001b[0m \u001b[1;36m0\u001b[0m\u001b[1;33m)\u001b[0m\u001b[1;33m.\u001b[0m\u001b[0mend\u001b[0m\u001b[1;33m(\u001b[0m\u001b[1;33m)\u001b[0m\u001b[1;33m)\u001b[0m\u001b[1;33m\u001b[0m\u001b[1;33m\u001b[0m\u001b[0m\n\u001b[0m\u001b[0;32m    338\u001b[0m         \u001b[0mend\u001b[0m \u001b[1;33m=\u001b[0m \u001b[0m_w\u001b[0m\u001b[1;33m(\u001b[0m\u001b[0ms\u001b[0m\u001b[1;33m,\u001b[0m \u001b[0mend\u001b[0m\u001b[1;33m)\u001b[0m\u001b[1;33m.\u001b[0m\u001b[0mend\u001b[0m\u001b[1;33m(\u001b[0m\u001b[1;33m)\u001b[0m\u001b[1;33m\u001b[0m\u001b[1;33m\u001b[0m\u001b[0m\n\u001b[0;32m    339\u001b[0m         \u001b[1;32mif\u001b[0m \u001b[0mend\u001b[0m \u001b[1;33m!=\u001b[0m \u001b[0mlen\u001b[0m\u001b[1;33m(\u001b[0m\u001b[0ms\u001b[0m\u001b[1;33m)\u001b[0m\u001b[1;33m:\u001b[0m\u001b[1;33m\u001b[0m\u001b[1;33m\u001b[0m\u001b[0m\n",
      "\u001b[1;32m~\\Anaconda3\\lib\\json\\decoder.py\u001b[0m in \u001b[0;36mraw_decode\u001b[1;34m(self, s, idx)\u001b[0m\n\u001b[0;32m    351\u001b[0m         \"\"\"\n\u001b[0;32m    352\u001b[0m         \u001b[1;32mtry\u001b[0m\u001b[1;33m:\u001b[0m\u001b[1;33m\u001b[0m\u001b[1;33m\u001b[0m\u001b[0m\n\u001b[1;32m--> 353\u001b[1;33m             \u001b[0mobj\u001b[0m\u001b[1;33m,\u001b[0m \u001b[0mend\u001b[0m \u001b[1;33m=\u001b[0m \u001b[0mself\u001b[0m\u001b[1;33m.\u001b[0m\u001b[0mscan_once\u001b[0m\u001b[1;33m(\u001b[0m\u001b[0ms\u001b[0m\u001b[1;33m,\u001b[0m \u001b[0midx\u001b[0m\u001b[1;33m)\u001b[0m\u001b[1;33m\u001b[0m\u001b[1;33m\u001b[0m\u001b[0m\n\u001b[0m\u001b[0;32m    354\u001b[0m         \u001b[1;32mexcept\u001b[0m \u001b[0mStopIteration\u001b[0m \u001b[1;32mas\u001b[0m \u001b[0merr\u001b[0m\u001b[1;33m:\u001b[0m\u001b[1;33m\u001b[0m\u001b[1;33m\u001b[0m\u001b[0m\n\u001b[0;32m    355\u001b[0m             \u001b[1;32mraise\u001b[0m \u001b[0mJSONDecodeError\u001b[0m\u001b[1;33m(\u001b[0m\u001b[1;34m\"Expecting value\"\u001b[0m\u001b[1;33m,\u001b[0m \u001b[0ms\u001b[0m\u001b[1;33m,\u001b[0m \u001b[0merr\u001b[0m\u001b[1;33m.\u001b[0m\u001b[0mvalue\u001b[0m\u001b[1;33m)\u001b[0m \u001b[1;32mfrom\u001b[0m \u001b[1;32mNone\u001b[0m\u001b[1;33m\u001b[0m\u001b[1;33m\u001b[0m\u001b[0m\n",
      "\u001b[1;31mJSONDecodeError\u001b[0m: Expecting property name enclosed in double quotes: line 1 column 3 (char 2)"
     ]
    }
   ],
   "source": [
    "json.loads(comment)"
   ]
  },
  {
   "cell_type": "code",
   "execution_count": null,
   "metadata": {},
   "outputs": [],
   "source": []
  }
 ],
 "metadata": {
  "interpreter": {
   "hash": "ce4da9915f0d678e12335d58837d25529fa567b369eed2b2f7083145c2fca737"
  },
  "kernelspec": {
   "display_name": "Python 3.7.4 64-bit ('base': conda)",
   "language": "python",
   "name": "python3"
  },
  "language_info": {
   "codemirror_mode": {
    "name": "ipython",
    "version": 3
   },
   "file_extension": ".py",
   "mimetype": "text/x-python",
   "name": "python",
   "nbconvert_exporter": "python",
   "pygments_lexer": "ipython3",
   "version": "3.7.4"
  },
  "orig_nbformat": 4
 },
 "nbformat": 4,
 "nbformat_minor": 2
}
