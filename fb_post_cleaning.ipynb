{
 "cells": [
  {
   "cell_type": "code",
   "execution_count": 2,
   "metadata": {},
   "outputs": [],
   "source": [
    "import pandas as pd\n",
    "from glob import glob\n",
    "import os\n",
    "import ast # for converting string to literal representation\n",
    "import re\n",
    "import datetime\n",
    "#from tqdm import tqdm\n",
    "import sqlite3"
   ]
  },
  {
   "cell_type": "code",
   "execution_count": 3,
   "metadata": {},
   "outputs": [],
   "source": [
    "def reform_posts(indf):\n",
    "    df = indf.copy()\n",
    "    remove_cols = ['Unnamed: 0', 'available', 'factcheck',\n",
    "        'image', 'image_id', 'image_ids', 'image_lowquality',\n",
    "        'images', 'images_description', 'images_lowquality',\n",
    "        'images_lowquality_description', 'is_live',\n",
    "        'reactions', 'reactors',\n",
    "        'sharers', 'shares', 'video', 'video_duration_seconds', 'video_height',\n",
    "        'video_id', 'video_ids', 'video_quality', 'video_size_MB',\n",
    "        'video_thumbnail', 'video_watches', 'video_width', 'videos',\n",
    "        'w3_fb_url', 'was_live', 'with']\n",
    "    for col in remove_cols:\n",
    "        if col in df.columns:\n",
    "            df = df.drop(columns=col)\n",
    "    df[\"comments_full\"] = df[\"comments_full\"].fillna(\"[]\")\n",
    "    df[\"comments_full\"] = df[\"comments_full\"].apply(reform_comment)\n",
    "    # remove duplicates based on post_id--keep row with highest comment count\n",
    "    df.sort_values([\"comments\"], inplace=True, ascending=False)\n",
    "    df = df.groupby([\"post_id\"]).aggregate('first').reset_index()\n",
    "    return df"
   ]
  },
  {
   "cell_type": "code",
   "execution_count": 4,
   "metadata": {},
   "outputs": [],
   "source": [
    "def reform_comment(text):\n",
    "    date_re = re.compile(\"datetime.datetime(\\(.*?\\))\")\n",
    "    dates = re.findall(\"datetime.datetime\\(.*?\\)\", text)\n",
    "    for date in dates:\n",
    "        time_obj = eval(date)\n",
    "        formatted = \"'{}-{}-{} {}:{}:{}'\".format(time_obj.year,time_obj.month,time_obj.day,time_obj.hour,time_obj.minute,time_obj.second)\n",
    "        text = text.replace(date,formatted)\n",
    "    text = text.replace(\"None\",\"[]\")\n",
    "    return ast.literal_eval(text)"
   ]
  },
  {
   "cell_type": "code",
   "execution_count": 5,
   "metadata": {},
   "outputs": [],
   "source": [
    "def get_comments_replies(df):\n",
    "    commentsdf = pd.DataFrame()\n",
    "    repliesdf = pd.DataFrame()\n",
    "    for idx, row in df.iterrows():\n",
    "        for comment in row[\"comments_full\"]:\n",
    "            if \"replies\" in comment:\n",
    "                for reply in comment[\"replies\"]:\n",
    "                    reply[\"parent_comment_id\"] = comment[\"comment_id\"]\n",
    "                    repliesdf = repliesdf.append(reply,ignore_index=True)\n",
    "            comment.pop(\"replies\",None)\n",
    "            comment[\"parent_post_id\"] = row[\"post_id\"]\n",
    "            commentsdf = commentsdf.append(comment, ignore_index = True)\n",
    "    # trim comment/reply duplicates\n",
    "    commentsdf = commentsdf.groupby([\"comment_id\"]).aggregate('first').reset_index()\n",
    "    repliesdf = repliesdf.groupby([\"comment_id\"]).aggregate('first').reset_index()\n",
    "    return commentsdf, repliesdf"
   ]
  },
  {
   "cell_type": "code",
   "execution_count": 6,
   "metadata": {},
   "outputs": [],
   "source": [
    "datadir = \"C:\\\\Users\\\\keatu\\\\Regis_archive\\\\practicum_data\\\\raw\\\\covid19-survivors-story-after-effects\"\n",
    "csv_list = glob(os.path.join(datadir,\"*.csv\"))"
   ]
  },
  {
   "cell_type": "code",
   "execution_count": 8,
   "metadata": {},
   "outputs": [
    {
     "name": "stdout",
     "output_type": "stream",
     "text": [
      "1 of 7: C:\\Users\\keatu\\Regis_archive\\practicum_data\\raw\\covid19-survivors-story-after-effects\\fb_scraper_2022-2-11_22-9-48.csv\n",
      "2 of 7: C:\\Users\\keatu\\Regis_archive\\practicum_data\\raw\\covid19-survivors-story-after-effects\\fb_scraper_2022-2-11_23-10-1.csv\n",
      "3 of 7: C:\\Users\\keatu\\Regis_archive\\practicum_data\\raw\\covid19-survivors-story-after-effects\\fb_scraper_2022-2-12_12-37-10.csv\n",
      "4 of 7: C:\\Users\\keatu\\Regis_archive\\practicum_data\\raw\\covid19-survivors-story-after-effects\\fb_scraper_2022-2-12_13-38-7.csv\n",
      "5 of 7: C:\\Users\\keatu\\Regis_archive\\practicum_data\\raw\\covid19-survivors-story-after-effects\\fb_scraper_2022-2-12_14-43-25.csv\n",
      "6 of 7: C:\\Users\\keatu\\Regis_archive\\practicum_data\\raw\\covid19-survivors-story-after-effects\\fb_scraper_2022-2-12_8-36-35.csv\n",
      "7 of 7: C:\\Users\\keatu\\Regis_archive\\practicum_data\\raw\\covid19-survivors-story-after-effects\\fb_scraper_2022-2-12_9-36-47.csv\n"
     ]
    }
   ],
   "source": [
    "all_posts = []\n",
    "all_comments = []\n",
    "all_replies = []\n",
    "for i, csv in enumerate(csv_list):\n",
    "    print(\"{} of {}: {}\".format(i+1, len(csv_list),csv))\n",
    "    fbdf = pd.read_csv(csv)\n",
    "    fbdf = reform_posts(fbdf)\n",
    "    commentsdf, repliesdf = get_comments_replies(fbdf)\n",
    "    fbdf.drop(columns = [\"comments_full\"])\n",
    "    all_posts.append(fbdf)\n",
    "    all_comments.append(commentsdf)\n",
    "    all_replies.append(repliesdf)\n",
    "posts = pd.concat(all_posts, sort=False)\n",
    "comments = pd.concat(all_comments, sort=False)\n",
    "replies = pd.concat(all_replies, sort=False)"
   ]
  },
  {
   "cell_type": "code",
   "execution_count": 9,
   "metadata": {},
   "outputs": [
    {
     "name": "stdout",
     "output_type": "stream",
     "text": [
      "955 5465 4776\n"
     ]
    }
   ],
   "source": [
    "print(len(posts),len(comments), len(replies))"
   ]
  },
  {
   "cell_type": "code",
   "execution_count": 33,
   "metadata": {},
   "outputs": [],
   "source": [
    "outcon = sqlite3.connect(r\"C:\\Users\\keatu\\Regis_archive\\practicum_data\\Facebook.db\")\n",
    "posts.astype(str).to_sql(\"posts\",con=outcon)\n",
    "comments.astype(str).to_sql(\"comments\",con=outcon)\n",
    "replies.astype(str).to_sql(\"replies\",con=outcon)\n",
    "outcon.close()"
   ]
  },
  {
   "cell_type": "code",
   "execution_count": 34,
   "metadata": {},
   "outputs": [
    {
     "name": "stdout",
     "output_type": "stream",
     "text": [
      "3815 125153 239957\n"
     ]
    }
   ],
   "source": [
    "print(len(posts),len(comments),len(replies))"
   ]
  },
  {
   "cell_type": "code",
   "execution_count": null,
   "metadata": {},
   "outputs": [],
   "source": []
  }
 ],
 "metadata": {
  "interpreter": {
   "hash": "ce4da9915f0d678e12335d58837d25529fa567b369eed2b2f7083145c2fca737"
  },
  "kernelspec": {
   "display_name": "Python 3.7.4 64-bit ('base': conda)",
   "language": "python",
   "name": "python3"
  },
  "language_info": {
   "codemirror_mode": {
    "name": "ipython",
    "version": 3
   },
   "file_extension": ".py",
   "mimetype": "text/x-python",
   "name": "python",
   "nbconvert_exporter": "python",
   "pygments_lexer": "ipython3",
   "version": "3.7.4"
  },
  "orig_nbformat": 4
 },
 "nbformat": 4,
 "nbformat_minor": 2
}
