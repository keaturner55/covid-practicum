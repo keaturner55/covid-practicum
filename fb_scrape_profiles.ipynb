{
 "cells": [
  {
   "cell_type": "code",
   "execution_count": 1,
   "metadata": {},
   "outputs": [],
   "source": [
    "from datetime import datetime, timezone\n",
    "from facebook_scraper import set_cookies, exceptions, get_profile\n",
    "import time\n",
    "import pandas as pd\n",
    "import json"
   ]
  },
  {
   "cell_type": "code",
   "execution_count": 20,
   "metadata": {},
   "outputs": [],
   "source": [
    "set_cookies(\"cookies.json\")"
   ]
  },
  {
   "cell_type": "code",
   "execution_count": null,
   "metadata": {},
   "outputs": [],
   "source": [
    "result = get_profile"
   ]
  },
  {
   "cell_type": "code",
   "execution_count": 21,
   "metadata": {},
   "outputs": [
    {
     "name": "stdout",
     "output_type": "stream",
     "text": [
      "2022-2-8_22-35-17 ## Sleeping 2 hrs\n",
      "2022-2-9_0-39-11 ## 1800 posts processed\n",
      "2022-2-9_0-57-26 ## 1900 posts processed\n",
      "2022-2-9_1-12-44 ## 2000 posts processed\n",
      "2022-2-9_1-18-40 ## TEMPORARY BAN at 2087 posts... sleeping for 1 hour\n",
      "2022-2-9_1-18-40 ## File written with timestamp\n",
      "2022-2-9_2-18-45 ## TEMPORARY BAN at 2087 posts... sleeping for 1 hour\n"
     ]
    },
    {
     "ename": "KeyboardInterrupt",
     "evalue": "",
     "output_type": "error",
     "traceback": [
      "\u001b[1;31m---------------------------------------------------------------------------\u001b[0m",
      "\u001b[1;31mTemporarilyBanned\u001b[0m                         Traceback (most recent call last)",
      "\u001b[1;32m<ipython-input-21-994654d22330>\u001b[0m in \u001b[0;36m<module>\u001b[1;34m\u001b[0m\n\u001b[0;32m      8\u001b[0m         for post in get_posts(group = group_ids[0], page_limit = None, pages = 1000, start_url = start_url, encoding=\"utf-8\",\n\u001b[1;32m----> 9\u001b[1;33m         request_url_callback = handle_pagination_url, options={\"posts_per_page\":1000,\"allow_extra_requests\":True,\"comments\":True}):\n\u001b[0m\u001b[0;32m     10\u001b[0m             \u001b[0mi\u001b[0m\u001b[1;33m+=\u001b[0m\u001b[1;36m1\u001b[0m\u001b[1;33m\u001b[0m\u001b[1;33m\u001b[0m\u001b[0m\n",
      "\u001b[1;32m~\\Anaconda3\\lib\\site-packages\\facebook_scraper\\facebook_scraper.py\u001b[0m in \u001b[0;36m_generic_get_posts\u001b[1;34m(self, extract_post_fn, iter_pages_fn, page_limit, options, remove_source, latest_date, max_past_limit, **kwargs)\u001b[0m\n\u001b[0;32m    935\u001b[0m             \u001b[0mlogger\u001b[0m\u001b[1;33m.\u001b[0m\u001b[0mdebug\u001b[0m\u001b[1;33m(\u001b[0m\u001b[1;34m\"Starting to iterate pages\"\u001b[0m\u001b[1;33m)\u001b[0m\u001b[1;33m\u001b[0m\u001b[1;33m\u001b[0m\u001b[0m\n\u001b[1;32m--> 936\u001b[1;33m             \u001b[1;32mfor\u001b[0m \u001b[0mi\u001b[0m\u001b[1;33m,\u001b[0m \u001b[0mpage\u001b[0m \u001b[1;32min\u001b[0m \u001b[0mzip\u001b[0m\u001b[1;33m(\u001b[0m\u001b[0mcounter\u001b[0m\u001b[1;33m,\u001b[0m \u001b[0miter_pages_fn\u001b[0m\u001b[1;33m(\u001b[0m\u001b[1;33m)\u001b[0m\u001b[1;33m)\u001b[0m\u001b[1;33m:\u001b[0m\u001b[1;33m\u001b[0m\u001b[1;33m\u001b[0m\u001b[0m\n\u001b[0m\u001b[0;32m    937\u001b[0m                 \u001b[0mlogger\u001b[0m\u001b[1;33m.\u001b[0m\u001b[0mdebug\u001b[0m\u001b[1;33m(\u001b[0m\u001b[1;34m\"Extracting posts from page %s\"\u001b[0m\u001b[1;33m,\u001b[0m \u001b[0mi\u001b[0m\u001b[1;33m)\u001b[0m\u001b[1;33m\u001b[0m\u001b[1;33m\u001b[0m\u001b[0m\n",
      "\u001b[1;32m~\\Anaconda3\\lib\\site-packages\\facebook_scraper\\page_iterators.py\u001b[0m in \u001b[0;36mgeneric_iter_pages\u001b[1;34m(start_url, page_parser_cls, request_fn, **kwargs)\u001b[0m\n\u001b[0;32m     91\u001b[0m                 \u001b[0mlogger\u001b[0m\u001b[1;33m.\u001b[0m\u001b[0mdebug\u001b[0m\u001b[1;33m(\u001b[0m\u001b[1;34m\"Requesting page from: %s\"\u001b[0m\u001b[1;33m,\u001b[0m \u001b[0mnext_url\u001b[0m\u001b[1;33m)\u001b[0m\u001b[1;33m\u001b[0m\u001b[1;33m\u001b[0m\u001b[0m\n\u001b[1;32m---> 92\u001b[1;33m                 \u001b[0mresponse\u001b[0m \u001b[1;33m=\u001b[0m \u001b[0mrequest_fn\u001b[0m\u001b[1;33m(\u001b[0m\u001b[0mnext_url\u001b[0m\u001b[1;33m)\u001b[0m\u001b[1;33m\u001b[0m\u001b[1;33m\u001b[0m\u001b[0m\n\u001b[0m\u001b[0;32m     93\u001b[0m                 \u001b[1;32mbreak\u001b[0m\u001b[1;33m\u001b[0m\u001b[1;33m\u001b[0m\u001b[0m\n",
      "\u001b[1;32m~\\Anaconda3\\lib\\site-packages\\facebook_scraper\\facebook_scraper.py\u001b[0m in \u001b[0;36mget\u001b[1;34m(self, url, **kwargs)\u001b[0m\n\u001b[0;32m    744\u001b[0m                 \u001b[1;32melif\u001b[0m \u001b[0mtitle\u001b[0m\u001b[1;33m.\u001b[0m\u001b[0mtext\u001b[0m\u001b[1;33m.\u001b[0m\u001b[0mlower\u001b[0m\u001b[1;33m(\u001b[0m\u001b[1;33m)\u001b[0m \u001b[1;32min\u001b[0m \u001b[0mtemp_ban_titles\u001b[0m\u001b[1;33m:\u001b[0m\u001b[1;33m\u001b[0m\u001b[1;33m\u001b[0m\u001b[0m\n\u001b[1;32m--> 745\u001b[1;33m                     \u001b[1;32mraise\u001b[0m \u001b[0mexceptions\u001b[0m\u001b[1;33m.\u001b[0m\u001b[0mTemporarilyBanned\u001b[0m\u001b[1;33m(\u001b[0m\u001b[0mtitle\u001b[0m\u001b[1;33m.\u001b[0m\u001b[0mtext\u001b[0m\u001b[1;33m)\u001b[0m\u001b[1;33m\u001b[0m\u001b[1;33m\u001b[0m\u001b[0m\n\u001b[0m\u001b[0;32m    746\u001b[0m                 \u001b[1;32melif\u001b[0m \u001b[1;34m\">your account has been disabled<\"\u001b[0m \u001b[1;32min\u001b[0m \u001b[0mresponse\u001b[0m\u001b[1;33m.\u001b[0m\u001b[0mhtml\u001b[0m\u001b[1;33m.\u001b[0m\u001b[0mhtml\u001b[0m\u001b[1;33m.\u001b[0m\u001b[0mlower\u001b[0m\u001b[1;33m(\u001b[0m\u001b[1;33m)\u001b[0m\u001b[1;33m:\u001b[0m\u001b[1;33m\u001b[0m\u001b[1;33m\u001b[0m\u001b[0m\n",
      "\u001b[1;31mTemporarilyBanned\u001b[0m: You’re Temporarily Blocked",
      "\nDuring handling of the above exception, another exception occurred:\n",
      "\u001b[1;31mKeyboardInterrupt\u001b[0m                         Traceback (most recent call last)",
      "\u001b[1;32m<ipython-input-21-994654d22330>\u001b[0m in \u001b[0;36m<module>\u001b[1;34m\u001b[0m\n\u001b[0;32m     33\u001b[0m             \u001b[0mprint\u001b[0m\u001b[1;33m(\u001b[0m\u001b[1;34m\"{} ## File written with timestamp\"\u001b[0m\u001b[1;33m.\u001b[0m\u001b[0mformat\u001b[0m\u001b[1;33m(\u001b[0m\u001b[0mnowtime\u001b[0m\u001b[1;33m)\u001b[0m\u001b[1;33m)\u001b[0m\u001b[1;33m\u001b[0m\u001b[1;33m\u001b[0m\u001b[0m\n\u001b[0;32m     34\u001b[0m         \u001b[0mresults\u001b[0m \u001b[1;33m=\u001b[0m \u001b[1;33m[\u001b[0m\u001b[1;33m]\u001b[0m\u001b[1;33m\u001b[0m\u001b[1;33m\u001b[0m\u001b[0m\n\u001b[1;32m---> 35\u001b[1;33m         \u001b[0mtime\u001b[0m\u001b[1;33m.\u001b[0m\u001b[0msleep\u001b[0m\u001b[1;33m(\u001b[0m\u001b[1;36m3600\u001b[0m\u001b[1;33m)\u001b[0m\u001b[1;33m\u001b[0m\u001b[1;33m\u001b[0m\u001b[0m\n\u001b[0m",
      "\u001b[1;31mKeyboardInterrupt\u001b[0m: "
     ]
    }
   ],
   "source": [
    "results = []\n",
    "now = datetime.now()\n",
    "nowtime = \"{}-{}-{}_{}-{}-{}\".format(now.year,now.month,now.day,now.hour,now.minute,now.second)\n",
    "#print(\"{} ## Sleeping 2 hrs\".format(nowtime))\n",
    "#time.sleep(7200)\n",
    "while True:\n",
    "    try :\n",
    "        for post in get_posts(group = group_ids[0], page_limit = None, pages = 1000, start_url = start_url, encoding=\"utf-8\",\n",
    "        request_url_callback = handle_pagination_url, options={\"posts_per_page\":1000,\"allow_extra_requests\":True,\"comments\":True}):\n",
    "            i+=1\n",
    "            if (i%100)==0:\n",
    "                now = datetime.now()\n",
    "                nowtime = \"{}-{}-{}_{}-{}-{}\".format(now.year,now.month,now.day,now.hour,now.minute,now.second)\n",
    "                print(\"{} ## {} posts processed\".format(nowtime, i))\n",
    "            results.append(post)\n",
    "        all_posts = pd.DataFrame()\n",
    "        for each in results:\n",
    "            all_posts = all_posts.append(each, ignore_index = True)\n",
    "        if len(all_posts)>0:\n",
    "            all_posts.to_csv(\"fb_scraper_{}.csv\".format(nowtime))\n",
    "            print(\"{} ## File written with timestamp\".format(nowtime))\n",
    "        print(\"Finished\")\n",
    "        break\n",
    "    except exceptions.TemporarilyBanned:\n",
    "        now = datetime.now()\n",
    "        nowtime = \"{}-{}-{}_{}-{}-{}\".format(now.year,now.month,now.day,now.hour,now.minute,now.second)\n",
    "        print(\"{} ## TEMPORARY BAN at {} posts... sleeping for 1 hour\".format(nowtime,i))\n",
    "        all_posts = pd.DataFrame()\n",
    "        for each in results:\n",
    "            all_posts = all_posts.append(each, ignore_index = True)\n",
    "        if len(all_posts)>0:\n",
    "            all_posts.to_csv(\"fb_scraper_{}.csv\".format(nowtime))\n",
    "            print(\"{} ## File written with timestamp\".format(nowtime))\n",
    "        results = []\n",
    "        time.sleep(3600)\n"
   ]
  },
  {
   "cell_type": "code",
   "execution_count": null,
   "metadata": {},
   "outputs": [],
   "source": []
  },
  {
   "cell_type": "code",
   "execution_count": 13,
   "metadata": {},
   "outputs": [
    {
     "name": "stdout",
     "output_type": "stream",
     "text": [
      "2022-2-2_20-29-35 ## File written with timestamp\n"
     ]
    }
   ],
   "source": [
    "all_posts = pd.DataFrame()\n",
    "for each in results:\n",
    "    all_posts = all_posts.append(each, ignore_index = True)\n",
    "if len(all_posts)>0:\n",
    "    all_posts.to_csv(\"fb_scraper_{}.csv\".format(nowtime))\n",
    "    print(\"{} ## File written with timestamp\".format(nowtime))"
   ]
  },
  {
   "cell_type": "code",
   "execution_count": null,
   "metadata": {},
   "outputs": [],
   "source": []
  }
 ],
 "metadata": {
  "interpreter": {
   "hash": "ce4da9915f0d678e12335d58837d25529fa567b369eed2b2f7083145c2fca737"
  },
  "kernelspec": {
   "display_name": "Python 3.7.4 64-bit ('base': conda)",
   "language": "python",
   "name": "python3"
  },
  "language_info": {
   "codemirror_mode": {
    "name": "ipython",
    "version": 3
   },
   "file_extension": ".py",
   "mimetype": "text/x-python",
   "name": "python",
   "nbconvert_exporter": "python",
   "pygments_lexer": "ipython3",
   "version": "3.7.4"
  },
  "orig_nbformat": 4
 },
 "nbformat": 4,
 "nbformat_minor": 2
}
