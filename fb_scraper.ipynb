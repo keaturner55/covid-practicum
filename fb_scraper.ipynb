{
 "cells": [
  {
   "cell_type": "code",
   "execution_count": 2,
   "metadata": {},
   "outputs": [],
   "source": [
    "from datetime import datetime, timezone\n",
    "from facebook_scraper import get_posts, set_cookies, exceptions\n",
    "import time\n",
    "import pandas as pd\n",
    "import json"
   ]
  },
  {
   "cell_type": "code",
   "execution_count": 3,
   "metadata": {},
   "outputs": [],
   "source": [
    "set_cookies(\"cookies.json\")"
   ]
  },
  {
   "cell_type": "code",
   "execution_count": 4,
   "metadata": {},
   "outputs": [],
   "source": [
    "def handle_pagination_url(url):\n",
    "    global start_url\n",
    "    \n",
    "    start_url = url"
   ]
  },
  {
   "cell_type": "code",
   "execution_count": 12,
   "metadata": {},
   "outputs": [],
   "source": [
    "start_url = None\n",
    "i=0"
   ]
  },
  {
   "cell_type": "code",
   "execution_count": 13,
   "metadata": {},
   "outputs": [],
   "source": [
    "#              long haulers support, covid19 the long-haulers\n",
    "group_ids = [\"373920943948661\",\"365867864454134\"]"
   ]
  },
  {
   "cell_type": "code",
   "execution_count": 14,
   "metadata": {},
   "outputs": [
    {
     "name": "stderr",
     "output_type": "stream",
     "text": [
      "C:\\Users\\keatu\\Anaconda3\\lib\\site-packages\\dateparser\\date_parser.py:35: PytzUsageWarning: The localize method is no longer necessary, as this time zone supports the fold attribute (PEP 495). For more details on migrating to a PEP 495-compliant implementation, see https://pytz-deprecation-shim.readthedocs.io/en/latest/migration.html\n",
      "  date_obj = stz.localize(date_obj)\n"
     ]
    },
    {
     "name": "stdout",
     "output_type": "stream",
     "text": [
      "2022-2-5_23-4-40 ## 100 posts processed\n",
      "2022-2-5_23-51-21 ## 200 posts processed\n",
      "2022-2-6_2-51-56 ## 300 posts processed\n",
      "2022-2-6_5-13-23 ## 400 posts processed\n",
      "2022-2-6_5-35-35 ## TEMPORARY BAN at 448 posts... sleeping for 1 hour\n",
      "2022-2-6_5-35-35 ## File written with timestamp\n",
      "2022-2-6_7-1-1 ## 500 posts processed\n",
      "2022-2-6_7-10-7 ## TEMPORARY BAN at 531 posts... sleeping for 1 hour\n",
      "2022-2-6_7-10-7 ## File written with timestamp\n",
      "2022-2-6_8-38-7 ## 600 posts processed\n",
      "2022-2-6_8-42-52 ## TEMPORARY BAN at 609 posts... sleeping for 1 hour\n",
      "2022-2-6_8-42-52 ## File written with timestamp\n",
      "2022-2-6_9-50-7 ## TEMPORARY BAN at 628 posts... sleeping for 1 hour\n",
      "2022-2-6_9-50-7 ## File written with timestamp\n",
      "2022-2-6_10-57-47 ## TEMPORARY BAN at 654 posts... sleeping for 1 hour\n",
      "2022-2-6_10-57-47 ## File written with timestamp\n",
      "2022-2-6_11-57-49 ## TEMPORARY BAN at 654 posts... sleeping for 1 hour\n"
     ]
    },
    {
     "ename": "KeyboardInterrupt",
     "evalue": "",
     "output_type": "error",
     "traceback": [
      "\u001b[1;31m---------------------------------------------------------------------------\u001b[0m",
      "\u001b[1;31mTemporarilyBanned\u001b[0m                         Traceback (most recent call last)",
      "\u001b[1;32m<ipython-input-14-cd30d686a6bf>\u001b[0m in \u001b[0;36m<module>\u001b[1;34m\u001b[0m\n\u001b[0;32m      7\u001b[0m         for post in get_posts(group = group_ids[0], page_limit = None, pages = 1000, start_url = start_url, encoding=\"utf-8\",\n\u001b[1;32m----> 8\u001b[1;33m         request_url_callback = handle_pagination_url, options={\"posts_per_page\":1000,\"allow_extra_requests\":True,\"comments\":True}):\n\u001b[0m\u001b[0;32m      9\u001b[0m             \u001b[0mi\u001b[0m\u001b[1;33m+=\u001b[0m\u001b[1;36m1\u001b[0m\u001b[1;33m\u001b[0m\u001b[1;33m\u001b[0m\u001b[0m\n",
      "\u001b[1;32m~\\Anaconda3\\lib\\site-packages\\facebook_scraper\\facebook_scraper.py\u001b[0m in \u001b[0;36m_generic_get_posts\u001b[1;34m(self, extract_post_fn, iter_pages_fn, page_limit, options, remove_source, latest_date, max_past_limit, **kwargs)\u001b[0m\n\u001b[0;32m    935\u001b[0m             \u001b[0mlogger\u001b[0m\u001b[1;33m.\u001b[0m\u001b[0mdebug\u001b[0m\u001b[1;33m(\u001b[0m\u001b[1;34m\"Starting to iterate pages\"\u001b[0m\u001b[1;33m)\u001b[0m\u001b[1;33m\u001b[0m\u001b[1;33m\u001b[0m\u001b[0m\n\u001b[1;32m--> 936\u001b[1;33m             \u001b[1;32mfor\u001b[0m \u001b[0mi\u001b[0m\u001b[1;33m,\u001b[0m \u001b[0mpage\u001b[0m \u001b[1;32min\u001b[0m \u001b[0mzip\u001b[0m\u001b[1;33m(\u001b[0m\u001b[0mcounter\u001b[0m\u001b[1;33m,\u001b[0m \u001b[0miter_pages_fn\u001b[0m\u001b[1;33m(\u001b[0m\u001b[1;33m)\u001b[0m\u001b[1;33m)\u001b[0m\u001b[1;33m:\u001b[0m\u001b[1;33m\u001b[0m\u001b[1;33m\u001b[0m\u001b[0m\n\u001b[0m\u001b[0;32m    937\u001b[0m                 \u001b[0mlogger\u001b[0m\u001b[1;33m.\u001b[0m\u001b[0mdebug\u001b[0m\u001b[1;33m(\u001b[0m\u001b[1;34m\"Extracting posts from page %s\"\u001b[0m\u001b[1;33m,\u001b[0m \u001b[0mi\u001b[0m\u001b[1;33m)\u001b[0m\u001b[1;33m\u001b[0m\u001b[1;33m\u001b[0m\u001b[0m\n",
      "\u001b[1;32m~\\Anaconda3\\lib\\site-packages\\facebook_scraper\\page_iterators.py\u001b[0m in \u001b[0;36mgeneric_iter_pages\u001b[1;34m(start_url, page_parser_cls, request_fn, **kwargs)\u001b[0m\n\u001b[0;32m     91\u001b[0m                 \u001b[0mlogger\u001b[0m\u001b[1;33m.\u001b[0m\u001b[0mdebug\u001b[0m\u001b[1;33m(\u001b[0m\u001b[1;34m\"Requesting page from: %s\"\u001b[0m\u001b[1;33m,\u001b[0m \u001b[0mnext_url\u001b[0m\u001b[1;33m)\u001b[0m\u001b[1;33m\u001b[0m\u001b[1;33m\u001b[0m\u001b[0m\n\u001b[1;32m---> 92\u001b[1;33m                 \u001b[0mresponse\u001b[0m \u001b[1;33m=\u001b[0m \u001b[0mrequest_fn\u001b[0m\u001b[1;33m(\u001b[0m\u001b[0mnext_url\u001b[0m\u001b[1;33m)\u001b[0m\u001b[1;33m\u001b[0m\u001b[1;33m\u001b[0m\u001b[0m\n\u001b[0m\u001b[0;32m     93\u001b[0m                 \u001b[1;32mbreak\u001b[0m\u001b[1;33m\u001b[0m\u001b[1;33m\u001b[0m\u001b[0m\n",
      "\u001b[1;32m~\\Anaconda3\\lib\\site-packages\\facebook_scraper\\facebook_scraper.py\u001b[0m in \u001b[0;36mget\u001b[1;34m(self, url, **kwargs)\u001b[0m\n\u001b[0;32m    744\u001b[0m                 \u001b[1;32melif\u001b[0m \u001b[0mtitle\u001b[0m\u001b[1;33m.\u001b[0m\u001b[0mtext\u001b[0m\u001b[1;33m.\u001b[0m\u001b[0mlower\u001b[0m\u001b[1;33m(\u001b[0m\u001b[1;33m)\u001b[0m \u001b[1;32min\u001b[0m \u001b[0mtemp_ban_titles\u001b[0m\u001b[1;33m:\u001b[0m\u001b[1;33m\u001b[0m\u001b[1;33m\u001b[0m\u001b[0m\n\u001b[1;32m--> 745\u001b[1;33m                     \u001b[1;32mraise\u001b[0m \u001b[0mexceptions\u001b[0m\u001b[1;33m.\u001b[0m\u001b[0mTemporarilyBanned\u001b[0m\u001b[1;33m(\u001b[0m\u001b[0mtitle\u001b[0m\u001b[1;33m.\u001b[0m\u001b[0mtext\u001b[0m\u001b[1;33m)\u001b[0m\u001b[1;33m\u001b[0m\u001b[1;33m\u001b[0m\u001b[0m\n\u001b[0m\u001b[0;32m    746\u001b[0m                 \u001b[1;32melif\u001b[0m \u001b[1;34m\">your account has been disabled<\"\u001b[0m \u001b[1;32min\u001b[0m \u001b[0mresponse\u001b[0m\u001b[1;33m.\u001b[0m\u001b[0mhtml\u001b[0m\u001b[1;33m.\u001b[0m\u001b[0mhtml\u001b[0m\u001b[1;33m.\u001b[0m\u001b[0mlower\u001b[0m\u001b[1;33m(\u001b[0m\u001b[1;33m)\u001b[0m\u001b[1;33m:\u001b[0m\u001b[1;33m\u001b[0m\u001b[1;33m\u001b[0m\u001b[0m\n",
      "\u001b[1;31mTemporarilyBanned\u001b[0m: You’re Temporarily Blocked",
      "\nDuring handling of the above exception, another exception occurred:\n",
      "\u001b[1;31mKeyboardInterrupt\u001b[0m                         Traceback (most recent call last)",
      "\u001b[1;32m<ipython-input-14-cd30d686a6bf>\u001b[0m in \u001b[0;36m<module>\u001b[1;34m\u001b[0m\n\u001b[0;32m     32\u001b[0m             \u001b[0mprint\u001b[0m\u001b[1;33m(\u001b[0m\u001b[1;34m\"{} ## File written with timestamp\"\u001b[0m\u001b[1;33m.\u001b[0m\u001b[0mformat\u001b[0m\u001b[1;33m(\u001b[0m\u001b[0mnowtime\u001b[0m\u001b[1;33m)\u001b[0m\u001b[1;33m)\u001b[0m\u001b[1;33m\u001b[0m\u001b[1;33m\u001b[0m\u001b[0m\n\u001b[0;32m     33\u001b[0m         \u001b[0mresults\u001b[0m \u001b[1;33m=\u001b[0m \u001b[1;33m[\u001b[0m\u001b[1;33m]\u001b[0m\u001b[1;33m\u001b[0m\u001b[1;33m\u001b[0m\u001b[0m\n\u001b[1;32m---> 34\u001b[1;33m         \u001b[0mtime\u001b[0m\u001b[1;33m.\u001b[0m\u001b[0msleep\u001b[0m\u001b[1;33m(\u001b[0m\u001b[1;36m3600\u001b[0m\u001b[1;33m)\u001b[0m\u001b[1;33m\u001b[0m\u001b[1;33m\u001b[0m\u001b[0m\n\u001b[0m",
      "\u001b[1;31mKeyboardInterrupt\u001b[0m: "
     ]
    }
   ],
   "source": [
    "results = []\n",
    "i=0\n",
    "now = datetime.now()\n",
    "nowtime = \"{}-{}-{}_{}-{}-{}\".format(now.year,now.month,now.day,now.hour,now.minute,now.second)\n",
    "while True:\n",
    "    try :\n",
    "        for post in get_posts(group = group_ids[0], page_limit = None, pages = 1000, start_url = start_url, encoding=\"utf-8\",\n",
    "        request_url_callback = handle_pagination_url, options={\"posts_per_page\":1000,\"allow_extra_requests\":True,\"comments\":True}):\n",
    "            i+=1\n",
    "            if (i%100)==0:\n",
    "                now = datetime.now()\n",
    "                nowtime = \"{}-{}-{}_{}-{}-{}\".format(now.year,now.month,now.day,now.hour,now.minute,now.second)\n",
    "                print(\"{} ## {} posts processed\".format(nowtime, i))\n",
    "            results.append(post)\n",
    "        all_posts = pd.DataFrame()\n",
    "        for each in results:\n",
    "            all_posts = all_posts.append(each, ignore_index = True)\n",
    "        if len(all_posts)>0:\n",
    "            all_posts.to_csv(\"fb_scraper_{}.csv\".format(nowtime))\n",
    "            print(\"{} ## File written with timestamp\".format(nowtime))\n",
    "        print(\"Finished\")\n",
    "        break\n",
    "    except exceptions.TemporarilyBanned:\n",
    "        now = datetime.now()\n",
    "        nowtime = \"{}-{}-{}_{}-{}-{}\".format(now.year,now.month,now.day,now.hour,now.minute,now.second)\n",
    "        print(\"{} ## TEMPORARY BAN at {} posts... sleeping for 1 hour\".format(nowtime,i))\n",
    "        all_posts = pd.DataFrame()\n",
    "        for each in results:\n",
    "            all_posts = all_posts.append(each, ignore_index = True)\n",
    "        if len(all_posts)>0:\n",
    "            all_posts.to_csv(\"fb_scraper_{}.csv\".format(nowtime))\n",
    "            print(\"{} ## File written with timestamp\".format(nowtime))\n",
    "        results = []\n",
    "        time.sleep(3600)\n"
   ]
  },
  {
   "cell_type": "code",
   "execution_count": null,
   "metadata": {},
   "outputs": [],
   "source": []
  },
  {
   "cell_type": "code",
   "execution_count": 13,
   "metadata": {},
   "outputs": [
    {
     "name": "stdout",
     "output_type": "stream",
     "text": [
      "2022-2-2_20-29-35 ## File written with timestamp\n"
     ]
    }
   ],
   "source": [
    "all_posts = pd.DataFrame()\n",
    "for each in results:\n",
    "    all_posts = all_posts.append(each, ignore_index = True)\n",
    "if len(all_posts)>0:\n",
    "    all_posts.to_csv(\"fb_scraper_{}.csv\".format(nowtime))\n",
    "    print(\"{} ## File written with timestamp\".format(nowtime))"
   ]
  },
  {
   "cell_type": "code",
   "execution_count": 7,
   "metadata": {},
   "outputs": [],
   "source": [
    "all_posts.to_csv(\"fb_srcaper1.csv\")"
   ]
  },
  {
   "cell_type": "code",
   "execution_count": 5,
   "metadata": {},
   "outputs": [
    {
     "data": {
      "text/plain": [
       "'https://m.facebook.com/groups/373920943948661?bac=MTYzMDk3NTk5Njo1MDgyMTUyMzM4NTI1NjQ6NTA4MjE1MjMzODUyNTY0LDAsMzg6MjA6S3c9PQ%3D%3D&multi_permalinks'"
      ]
     },
     "execution_count": 5,
     "metadata": {},
     "output_type": "execute_result"
    }
   ],
   "source": [
    "start_url"
   ]
  },
  {
   "cell_type": "code",
   "execution_count": 11,
   "metadata": {},
   "outputs": [],
   "source": [
    "with open(\"test.csv\", 'w+', encoding=\"utf-8\") as f:\n",
    "    for each in results[:4]:\n",
    "        line = [str(i) for i in list(each)]\n",
    "        line = \",\".join(line)\n",
    "        f.write(line)\n"
   ]
  },
  {
   "cell_type": "code",
   "execution_count": 13,
   "metadata": {},
   "outputs": [
    {
     "data": {
      "text/plain": [
       "['post_id',\n",
       " 'text',\n",
       " 'post_text',\n",
       " 'shared_text',\n",
       " 'time',\n",
       " 'timestamp',\n",
       " 'image',\n",
       " 'image_lowquality',\n",
       " 'images',\n",
       " 'images_description',\n",
       " 'images_lowquality',\n",
       " 'images_lowquality_description',\n",
       " 'video',\n",
       " 'video_duration_seconds',\n",
       " 'video_height',\n",
       " 'video_id',\n",
       " 'video_quality',\n",
       " 'video_size_MB',\n",
       " 'video_thumbnail',\n",
       " 'video_watches',\n",
       " 'video_width',\n",
       " 'likes',\n",
       " 'comments',\n",
       " 'shares',\n",
       " 'post_url',\n",
       " 'link',\n",
       " 'links',\n",
       " 'user_id',\n",
       " 'username',\n",
       " 'user_url',\n",
       " 'is_live',\n",
       " 'factcheck',\n",
       " 'shared_post_id',\n",
       " 'shared_time',\n",
       " 'shared_user_id',\n",
       " 'shared_username',\n",
       " 'shared_post_url',\n",
       " 'available',\n",
       " 'comments_full',\n",
       " 'reactors',\n",
       " 'w3_fb_url',\n",
       " 'reactions',\n",
       " 'reaction_count',\n",
       " 'with',\n",
       " 'page_id',\n",
       " 'sharers',\n",
       " 'image_id',\n",
       " 'image_ids',\n",
       " 'was_live',\n",
       " 'header']"
      ]
     },
     "execution_count": 13,
     "metadata": {},
     "output_type": "execute_result"
    }
   ],
   "source": [
    "list(results[0].keys())"
   ]
  },
  {
   "cell_type": "code",
   "execution_count": null,
   "metadata": {},
   "outputs": [],
   "source": []
  }
 ],
 "metadata": {
  "interpreter": {
   "hash": "ce4da9915f0d678e12335d58837d25529fa567b369eed2b2f7083145c2fca737"
  },
  "kernelspec": {
   "display_name": "Python 3.7.4 64-bit ('base': conda)",
   "language": "python",
   "name": "python3"
  },
  "language_info": {
   "codemirror_mode": {
    "name": "ipython",
    "version": 3
   },
   "file_extension": ".py",
   "mimetype": "text/x-python",
   "name": "python",
   "nbconvert_exporter": "python",
   "pygments_lexer": "ipython3",
   "version": "3.7.4"
  },
  "orig_nbformat": 4
 },
 "nbformat": 4,
 "nbformat_minor": 2
}
